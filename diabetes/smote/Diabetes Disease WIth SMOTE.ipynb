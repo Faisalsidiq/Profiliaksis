{
 "cells": [
  {
   "cell_type": "code",
   "execution_count": 46,
   "id": "a8d611aa-972b-4d97-84cb-5a15beeb3246",
   "metadata": {},
   "outputs": [],
   "source": [
    "\n",
    "import numpy as np\n",
    "import pandas as pd\n",
    "import tensorflow as tf\n",
    "from tensorflow.keras.layers import Dense\n",
    "from tensorflow.keras.models import Sequential\n",
    "from sklearn.model_selection import train_test_split\n",
    "from imblearn.over_sampling import SMOTE\n",
    "from collections import Counter\n",
    "import seaborn as sns"
   ]
  },
  {
   "cell_type": "code",
   "execution_count": null,
   "id": "b41c10f0-5679-43b5-88b4-8508cb85f82b",
   "metadata": {},
   "outputs": [],
   "source": [
    "file = 'diabetes-dataset.csv'\n",
    "df = pd.read_csv(file)"
   ]
  },
  {
   "cell_type": "code",
   "execution_count": 48,
   "id": "2f9fba07-dce7-4f1b-972b-6248af640134",
   "metadata": {},
   "outputs": [
    {
     "name": "stdout",
     "output_type": "stream",
     "text": [
      "DataFrame sebelum menghapus duplikat:\n",
      "        diabetes  kelamin  umur   bmi  tekananDarah  kolesterol  stroke  \\\n",
      "0            0.0      0.0   8.0  40.0           1.0         1.0     0.0   \n",
      "1            0.0      0.0   6.0  25.0           0.0         0.0     0.0   \n",
      "2            0.0      0.0   8.0  28.0           1.0         1.0     0.0   \n",
      "3            0.0      0.0  10.0  27.0           1.0         0.0     0.0   \n",
      "4            0.0      0.0  10.0  24.0           1.0         1.0     0.0   \n",
      "...          ...      ...   ...   ...           ...         ...     ...   \n",
      "253675       0.0      1.0   4.0  45.0           1.0         1.0     0.0   \n",
      "253676       1.0      0.0  10.0  18.0           1.0         1.0     0.0   \n",
      "253677       0.0      0.0   1.0  28.0           0.0         0.0     0.0   \n",
      "253678       0.0      1.0   6.0  23.0           1.0         0.0     0.0   \n",
      "253679       1.0      0.0   8.0  25.0           1.0         1.0     0.0   \n",
      "\n",
      "        sakitJantung  rokok  alkohol  olahraga  buah  sayur  susahJalan  \n",
      "0                0.0    1.0      0.0       0.0   0.0    1.0         1.0  \n",
      "1                0.0    1.0      0.0       1.0   0.0    0.0         0.0  \n",
      "2                0.0    0.0      0.0       0.0   1.0    0.0         1.0  \n",
      "3                0.0    0.0      0.0       1.0   1.0    1.0         0.0  \n",
      "4                0.0    0.0      0.0       1.0   1.0    1.0         0.0  \n",
      "...              ...    ...      ...       ...   ...    ...         ...  \n",
      "253675           0.0    0.0      0.0       0.0   1.0    1.0         0.0  \n",
      "253676           0.0    0.0      0.0       0.0   0.0    0.0         1.0  \n",
      "253677           0.0    0.0      0.0       1.0   1.0    0.0         0.0  \n",
      "253678           0.0    0.0      0.0       0.0   1.0    1.0         0.0  \n",
      "253679           1.0    0.0      0.0       1.0   1.0    0.0         0.0  \n",
      "\n",
      "[229474 rows x 14 columns]\n",
      "DataFrame setelah menghapus duplikat:\n",
      "        diabetes  kelamin  umur   bmi  tekananDarah  kolesterol  stroke  \\\n",
      "0            0.0      0.0   8.0  40.0           1.0         1.0     0.0   \n",
      "1            0.0      0.0   6.0  25.0           0.0         0.0     0.0   \n",
      "2            0.0      0.0   8.0  28.0           1.0         1.0     0.0   \n",
      "3            0.0      0.0  10.0  27.0           1.0         0.0     0.0   \n",
      "4            0.0      0.0  10.0  24.0           1.0         1.0     0.0   \n",
      "...          ...      ...   ...   ...           ...         ...     ...   \n",
      "253671       0.0      1.0   7.0  23.0           1.0         1.0     1.0   \n",
      "253673       0.0      1.0   2.0  42.0           1.0         0.0     0.0   \n",
      "253675       0.0      1.0   4.0  45.0           1.0         1.0     0.0   \n",
      "253676       1.0      0.0  10.0  18.0           1.0         1.0     0.0   \n",
      "253679       1.0      0.0   8.0  25.0           1.0         1.0     0.0   \n",
      "\n",
      "        sakitJantung  rokok  alkohol  olahraga  buah  sayur  susahJalan  \n",
      "0                0.0    1.0      0.0       0.0   0.0    1.0         1.0  \n",
      "1                0.0    1.0      0.0       1.0   0.0    0.0         0.0  \n",
      "2                0.0    0.0      0.0       0.0   1.0    0.0         1.0  \n",
      "3                0.0    0.0      0.0       1.0   1.0    1.0         0.0  \n",
      "4                0.0    0.0      0.0       1.0   1.0    1.0         0.0  \n",
      "...              ...    ...      ...       ...   ...    ...         ...  \n",
      "253671           1.0    0.0      0.0       0.0   0.0    0.0         0.0  \n",
      "253673           0.0    0.0      0.0       1.0   1.0    1.0         0.0  \n",
      "253675           0.0    0.0      0.0       0.0   1.0    1.0         0.0  \n",
      "253676           0.0    0.0      0.0       0.0   0.0    0.0         1.0  \n",
      "253679           1.0    0.0      0.0       1.0   1.0    0.0         0.0  \n",
      "\n",
      "[86436 rows x 14 columns]\n"
     ]
    }
   ],
   "source": [
    "# Tampilkan DataFrame sebelum menghapus duplikat\n",
    "print(\"DataFrame sebelum menghapus duplikat:\")\n",
    "print(df)\n",
    "\n",
    "print(\"DataFrame setelah menghapus duplikat:\")\n",
    "\n",
    "# Hapus data duplikat berdasarkan seluruh kolom\n",
    "hapus = df.drop_duplicates(inplace=True)\n",
    "print(df)\n",
    "# Tampilkan DataFrame setelah menghapus duplikat\n"
   ]
  },
  {
   "cell_type": "code",
   "execution_count": 54,
   "id": "11520181-3193-4e1b-8d4b-c1970f58af66",
   "metadata": {},
   "outputs": [
    {
     "name": "stdout",
     "output_type": "stream",
     "text": [
      "diabetes\n",
      "[nan]\n",
      "kelamin\n",
      "[nan]\n",
      "umur\n",
      "[nan]\n",
      "bmi\n",
      "[nan]\n",
      "tekananDarah\n",
      "[nan]\n",
      "kolesterol\n",
      "[nan]\n",
      "stroke\n",
      "[nan]\n",
      "sakitJantung\n",
      "[nan]\n",
      "rokok\n",
      "[nan]\n",
      "alkohol\n",
      "[nan]\n",
      "olahraga\n",
      "[nan]\n",
      "buah\n",
      "[nan]\n",
      "sayur\n",
      "[nan]\n",
      "susahJalan\n",
      "[nan]\n"
     ]
    }
   ],
   "source": [
    "df = df.reindex(columns=['Diabetes_binary', 'Sex', 'Age', 'BMI', 'HighBP', 'HighChol', 'Stroke', 'HeartDiseaseorAttack', 'Smoker', 'HvyAlcoholConsump', 'PhysActivity', 'Fruits', 'Veggies', 'DiffWalk'])\n",
    "\n",
    "names = {'Diabetes_binary':'diabetes', 'Sex':'kelamin', 'Age':'umur', 'BMI':'bmi', 'HighBP':'tekananDarah', 'HighChol':'kolesterol', 'Stroke':'stroke', 'HeartDiseaseorAttack':'sakitJantung', 'Smoker':'rokok', 'HvyAlcoholConsump':'alkohol', 'PhysActivity':'olahraga', 'Fruits':'buah', 'Veggies':'sayur', 'DiffWalk':'susahJalan'}\n",
    "df = df.rename(columns=names)\n",
    "     \n",
    "\n",
    "cols = df.columns\n",
    "\n",
    "for names in cols:\n",
    "  print(names)\n",
    "  unique_values = df[names].unique()\n",
    "  print(unique_values)"
   ]
  },
  {
   "cell_type": "code",
   "execution_count": 55,
   "id": "9275c161-b094-40e3-91fc-12a5cad72960",
   "metadata": {},
   "outputs": [],
   "source": [
    "\n",
    "# replace umur start from 0\n",
    "df['umur'] = df['umur'].replace([1.0, 2.0, 3.0, 4.0, 5.0, 6.0, 7.0, 8.0, 9.0, 10.0, 11.0, 12.0, 13.0],\n",
    " [0.0, 1.0, 2.0, 3.0, 4.0, 5.0, 6.0, 7.0, 8.0, 9.0, 10.0, 11.0, 12.0]).astype(float)\n",
    "     "
   ]
  },
  {
   "cell_type": "code",
   "execution_count": 56,
   "id": "5954fe7a-8065-4979-aa36-501f427a4f35",
   "metadata": {},
   "outputs": [],
   "source": [
    "\n",
    "# (TARGET)\n",
    "# diabetes\n",
    "# [0. 1.] = Tidak, Ya\n",
    "\n",
    "# (FEATURES)\n",
    "# kelamin\n",
    "# [0. 1.] = Perempuan, Lakilaki\n",
    "# umur\n",
    "# [0. sampai 12.] = '18-24', '25-29', '30-34', '35-39', '40-44', '45-49', '50-54', '55-59','60-64', '65-69', '70-74', '75-79', '80 or older'\n",
    "# bmi\n",
    "# [float]\n",
    "# tekananDarah\n",
    "# [0. 1.] = Normal, Tinggi\n",
    "# kolesterol\n",
    "# [0. 1.] = Normal, Tinggi\n",
    "# stroke\n",
    "# [0. 1.] = Tidak, Ya\n",
    "# sakitJantung\n",
    "# [0. 1.] = Tidak , Ya\n",
    "# rokok\n",
    "# [0. 1.] = Tidak, Ya\n",
    "# alkohol\n",
    "# [0. 1.] = Tidak, Ya\n",
    "# olahraga\n",
    "# [0. 1.] = Tidak, Ya\n",
    "# buah\n",
    "# [0. 1.] = Tidak, Ya\n",
    "# sayur\n",
    "# [0. 1.] = Tidak, Ya\n",
    "# susahJalan\n",
    "# [0. 1.] = Tidak, Ya"
   ]
  },
  {
   "cell_type": "code",
   "execution_count": null,
   "id": "3cb2f846-de9e-47d4-a5fa-efe49bc2661c",
   "metadata": {},
   "outputs": [],
   "source": [
    "from imblearn.over_sampling import SMOTE\n",
    "X = df.drop('diabetes', axis=1)\n",
    "y = df['diabetes']\n",
    "sm = SMOTE(random_state=42, k_neighbors=5)\n",
    "X_res, y_res = sm.fit_resample(X, y)\n",
    "X_train, X_test, y_train, y_test = train_test_split(X_res, y_res, test_size=0.2, random_state=42)"
   ]
  },
  {
   "cell_type": "code",
   "execution_count": null,
   "id": "f8a58922-7d49-418a-9afd-a4a4da4f29dc",
   "metadata": {},
   "outputs": [],
   "source": [
    "print(\"Distribusi kelas sebelum SMOTE:\", Counter(y))\n",
    "print(\"Distribusi kelas setelah SMOTE:\", Counter(y_res))"
   ]
  },
  {
   "cell_type": "code",
   "execution_count": 11,
   "id": "bd977758-5c92-4fea-a183-c92c7caa65af",
   "metadata": {},
   "outputs": [
    {
     "name": "stdout",
     "output_type": "stream",
     "text": [
      "WARNING:tensorflow:From c:\\users\\faisal\\appdata\\local\\programs\\python\\python39\\lib\\site-packages\\keras\\src\\backend.py:873: The name tf.get_default_graph is deprecated. Please use tf.compat.v1.get_default_graph instead.\n",
      "\n",
      "Epoch 1/100\n",
      "WARNING:tensorflow:From c:\\users\\faisal\\appdata\\local\\programs\\python\\python39\\lib\\site-packages\\keras\\src\\utils\\tf_utils.py:492: The name tf.ragged.RaggedTensorValue is deprecated. Please use tf.compat.v1.ragged.RaggedTensorValue instead.\n",
      "\n",
      "WARNING:tensorflow:From c:\\users\\faisal\\appdata\\local\\programs\\python\\python39\\lib\\site-packages\\keras\\src\\engine\\base_layer_utils.py:384: The name tf.executing_eagerly_outside_functions is deprecated. Please use tf.compat.v1.executing_eagerly_outside_functions instead.\n",
      "\n",
      "7776/7776 [==============================] - 32s 4ms/step - loss: 0.5965 - accuracy: 0.6800 - val_loss: 0.5621 - val_accuracy: 0.7152\n",
      "Epoch 2/100\n",
      "7776/7776 [==============================] - 33s 4ms/step - loss: 0.5630 - accuracy: 0.7116 - val_loss: 0.5534 - val_accuracy: 0.7194\n",
      "Epoch 3/100\n",
      "7776/7776 [==============================] - 33s 4ms/step - loss: 0.5558 - accuracy: 0.7173 - val_loss: 0.5497 - val_accuracy: 0.7228\n",
      "Epoch 4/100\n",
      "7776/7776 [==============================] - 33s 4ms/step - loss: 0.5523 - accuracy: 0.7199 - val_loss: 0.5519 - val_accuracy: 0.7213\n",
      "Epoch 5/100\n",
      "7776/7776 [==============================] - 33s 4ms/step - loss: 0.5492 - accuracy: 0.7221 - val_loss: 0.5461 - val_accuracy: 0.7241\n",
      "Epoch 6/100\n",
      "7776/7776 [==============================] - 50s 6ms/step - loss: 0.5473 - accuracy: 0.7237 - val_loss: 0.5471 - val_accuracy: 0.7219\n",
      "Epoch 7/100\n",
      "7776/7776 [==============================] - 39s 5ms/step - loss: 0.5454 - accuracy: 0.7251 - val_loss: 0.5431 - val_accuracy: 0.7268\n",
      "Epoch 8/100\n",
      "7776/7776 [==============================] - 35s 5ms/step - loss: 0.5438 - accuracy: 0.7261 - val_loss: 0.5501 - val_accuracy: 0.7201\n",
      "Epoch 9/100\n",
      "7776/7776 [==============================] - 43s 6ms/step - loss: 0.5421 - accuracy: 0.7269 - val_loss: 0.5403 - val_accuracy: 0.7293\n",
      "Epoch 10/100\n",
      "7776/7776 [==============================] - 54s 7ms/step - loss: 0.5403 - accuracy: 0.7285 - val_loss: 0.5405 - val_accuracy: 0.7296\n",
      "Epoch 11/100\n",
      "7776/7776 [==============================] - 54s 7ms/step - loss: 0.5393 - accuracy: 0.7292 - val_loss: 0.5386 - val_accuracy: 0.7287\n",
      "Epoch 12/100\n",
      "7776/7776 [==============================] - 54s 7ms/step - loss: 0.5383 - accuracy: 0.7298 - val_loss: 0.5383 - val_accuracy: 0.7291\n",
      "Epoch 13/100\n",
      "7776/7776 [==============================] - 53s 7ms/step - loss: 0.5370 - accuracy: 0.7305 - val_loss: 0.5371 - val_accuracy: 0.7305\n",
      "Epoch 14/100\n",
      "7776/7776 [==============================] - 53s 7ms/step - loss: 0.5358 - accuracy: 0.7314 - val_loss: 0.5466 - val_accuracy: 0.7259\n",
      "Epoch 15/100\n",
      "7776/7776 [==============================] - 54s 7ms/step - loss: 0.5349 - accuracy: 0.7321 - val_loss: 0.5421 - val_accuracy: 0.7259\n",
      "Epoch 16/100\n",
      "7776/7776 [==============================] - 55s 7ms/step - loss: 0.5338 - accuracy: 0.7331 - val_loss: 0.5325 - val_accuracy: 0.7340\n",
      "Epoch 17/100\n",
      "7776/7776 [==============================] - 54s 7ms/step - loss: 0.5330 - accuracy: 0.7342 - val_loss: 0.5324 - val_accuracy: 0.7332\n",
      "Epoch 18/100\n",
      "7776/7776 [==============================] - 54s 7ms/step - loss: 0.5317 - accuracy: 0.7338 - val_loss: 0.5307 - val_accuracy: 0.7354\n",
      "Epoch 19/100\n",
      "7776/7776 [==============================] - 54s 7ms/step - loss: 0.5309 - accuracy: 0.7346 - val_loss: 0.5293 - val_accuracy: 0.7360\n",
      "Epoch 20/100\n",
      "7776/7776 [==============================] - 54s 7ms/step - loss: 0.5296 - accuracy: 0.7359 - val_loss: 0.5270 - val_accuracy: 0.7373\n",
      "Epoch 21/100\n",
      "7776/7776 [==============================] - 55s 7ms/step - loss: 0.5285 - accuracy: 0.7364 - val_loss: 0.5261 - val_accuracy: 0.7388\n",
      "Epoch 22/100\n",
      "7776/7776 [==============================] - 54s 7ms/step - loss: 0.5274 - accuracy: 0.7369 - val_loss: 0.5318 - val_accuracy: 0.7337\n",
      "Epoch 23/100\n",
      "7776/7776 [==============================] - 55s 7ms/step - loss: 0.5257 - accuracy: 0.7388 - val_loss: 0.5223 - val_accuracy: 0.7420\n",
      "Epoch 24/100\n",
      "7776/7776 [==============================] - 53s 7ms/step - loss: 0.5249 - accuracy: 0.7393 - val_loss: 0.5216 - val_accuracy: 0.7418\n",
      "Epoch 25/100\n",
      "7776/7776 [==============================] - 53s 7ms/step - loss: 0.5237 - accuracy: 0.7392 - val_loss: 0.5197 - val_accuracy: 0.7439\n",
      "Epoch 26/100\n",
      "7776/7776 [==============================] - 53s 7ms/step - loss: 0.5221 - accuracy: 0.7412 - val_loss: 0.5167 - val_accuracy: 0.7445\n",
      "Epoch 27/100\n",
      "7776/7776 [==============================] - 54s 7ms/step - loss: 0.5206 - accuracy: 0.7415 - val_loss: 0.5195 - val_accuracy: 0.7438\n",
      "Epoch 28/100\n",
      "7776/7776 [==============================] - 55s 7ms/step - loss: 0.5197 - accuracy: 0.7423 - val_loss: 0.5140 - val_accuracy: 0.7483\n",
      "Epoch 29/100\n",
      "7776/7776 [==============================] - 54s 7ms/step - loss: 0.5186 - accuracy: 0.7433 - val_loss: 0.5122 - val_accuracy: 0.7497\n",
      "Epoch 30/100\n",
      "7776/7776 [==============================] - 54s 7ms/step - loss: 0.5170 - accuracy: 0.7443 - val_loss: 0.5106 - val_accuracy: 0.7507\n",
      "Epoch 31/100\n",
      "7776/7776 [==============================] - 52s 7ms/step - loss: 0.5152 - accuracy: 0.7454 - val_loss: 0.5063 - val_accuracy: 0.7524\n",
      "Epoch 32/100\n",
      "7776/7776 [==============================] - 55s 7ms/step - loss: 0.5141 - accuracy: 0.7465 - val_loss: 0.5100 - val_accuracy: 0.7492\n",
      "Epoch 33/100\n",
      "7776/7776 [==============================] - 56s 7ms/step - loss: 0.5131 - accuracy: 0.7463 - val_loss: 0.5048 - val_accuracy: 0.7533\n",
      "Epoch 34/100\n",
      "7776/7776 [==============================] - 57s 7ms/step - loss: 0.5108 - accuracy: 0.7485 - val_loss: 0.5048 - val_accuracy: 0.7537\n",
      "Epoch 35/100\n",
      "7776/7776 [==============================] - 57s 7ms/step - loss: 0.5090 - accuracy: 0.7496 - val_loss: 0.5002 - val_accuracy: 0.7549\n",
      "Epoch 36/100\n",
      "7776/7776 [==============================] - 56s 7ms/step - loss: 0.5073 - accuracy: 0.7503 - val_loss: 0.4969 - val_accuracy: 0.7572\n",
      "Epoch 37/100\n",
      "7776/7776 [==============================] - 56s 7ms/step - loss: 0.5057 - accuracy: 0.7512 - val_loss: 0.4961 - val_accuracy: 0.7582\n",
      "Epoch 38/100\n",
      "7776/7776 [==============================] - 55s 7ms/step - loss: 0.5030 - accuracy: 0.7524 - val_loss: 0.4916 - val_accuracy: 0.7590\n",
      "Epoch 39/100\n",
      "7776/7776 [==============================] - 56s 7ms/step - loss: 0.5015 - accuracy: 0.7529 - val_loss: 0.4920 - val_accuracy: 0.7608\n",
      "Epoch 40/100\n",
      "7776/7776 [==============================] - 48s 6ms/step - loss: 0.5002 - accuracy: 0.7532 - val_loss: 0.4904 - val_accuracy: 0.7589\n",
      "Epoch 41/100\n",
      "7776/7776 [==============================] - 50s 6ms/step - loss: 0.4975 - accuracy: 0.7554 - val_loss: 0.4855 - val_accuracy: 0.7621\n",
      "Epoch 42/100\n",
      "7776/7776 [==============================] - 55s 7ms/step - loss: 0.4959 - accuracy: 0.7555 - val_loss: 0.4830 - val_accuracy: 0.7612\n",
      "Epoch 43/100\n",
      "7776/7776 [==============================] - 59s 8ms/step - loss: 0.4934 - accuracy: 0.7568 - val_loss: 0.4806 - val_accuracy: 0.7648\n",
      "Epoch 44/100\n",
      "7776/7776 [==============================] - 56s 7ms/step - loss: 0.4925 - accuracy: 0.7568 - val_loss: 0.4808 - val_accuracy: 0.7619\n",
      "Epoch 45/100\n",
      "7776/7776 [==============================] - 59s 8ms/step - loss: 0.4905 - accuracy: 0.7585 - val_loss: 0.4782 - val_accuracy: 0.7646\n",
      "Epoch 46/100\n",
      "7776/7776 [==============================] - 59s 8ms/step - loss: 0.4889 - accuracy: 0.7586 - val_loss: 0.4741 - val_accuracy: 0.7656\n",
      "Epoch 47/100\n",
      "7776/7776 [==============================] - 57s 7ms/step - loss: 0.4866 - accuracy: 0.7595 - val_loss: 0.4773 - val_accuracy: 0.7639\n",
      "Epoch 48/100\n",
      "7776/7776 [==============================] - 56s 7ms/step - loss: 0.4860 - accuracy: 0.7607 - val_loss: 0.4807 - val_accuracy: 0.7616\n",
      "Epoch 49/100\n",
      "7776/7776 [==============================] - 57s 7ms/step - loss: 0.4849 - accuracy: 0.7608 - val_loss: 0.4739 - val_accuracy: 0.7640\n",
      "Epoch 50/100\n",
      "7776/7776 [==============================] - 58s 8ms/step - loss: 0.4827 - accuracy: 0.7620 - val_loss: 0.4702 - val_accuracy: 0.7656\n",
      "Epoch 51/100\n",
      "7776/7776 [==============================] - 56s 7ms/step - loss: 0.4818 - accuracy: 0.7620 - val_loss: 0.4685 - val_accuracy: 0.7681\n",
      "Epoch 52/100\n",
      "7776/7776 [==============================] - 57s 7ms/step - loss: 0.4812 - accuracy: 0.7619 - val_loss: 0.4719 - val_accuracy: 0.7666\n",
      "Epoch 53/100\n",
      "7776/7776 [==============================] - 57s 7ms/step - loss: 0.4799 - accuracy: 0.7632 - val_loss: 0.4702 - val_accuracy: 0.7671\n",
      "Epoch 54/100\n",
      "7776/7776 [==============================] - 56s 7ms/step - loss: 0.4783 - accuracy: 0.7637 - val_loss: 0.4645 - val_accuracy: 0.7695\n",
      "Epoch 55/100\n",
      "7776/7776 [==============================] - 56s 7ms/step - loss: 0.4772 - accuracy: 0.7641 - val_loss: 0.4639 - val_accuracy: 0.7708\n",
      "Epoch 56/100\n",
      "7776/7776 [==============================] - 54s 7ms/step - loss: 0.4761 - accuracy: 0.7646 - val_loss: 0.4646 - val_accuracy: 0.7689\n",
      "Epoch 57/100\n",
      "7776/7776 [==============================] - 56s 7ms/step - loss: 0.4757 - accuracy: 0.7658 - val_loss: 0.4656 - val_accuracy: 0.7693\n",
      "Epoch 58/100\n",
      "7776/7776 [==============================] - 54s 7ms/step - loss: 0.4749 - accuracy: 0.7656 - val_loss: 0.4640 - val_accuracy: 0.7709\n",
      "Epoch 59/100\n",
      "7776/7776 [==============================] - 57s 7ms/step - loss: 0.4734 - accuracy: 0.7664 - val_loss: 0.4626 - val_accuracy: 0.7713\n",
      "Epoch 60/100\n",
      "7776/7776 [==============================] - 57s 7ms/step - loss: 0.4729 - accuracy: 0.7668 - val_loss: 0.4654 - val_accuracy: 0.7680\n",
      "Epoch 61/100\n",
      "7776/7776 [==============================] - 55s 7ms/step - loss: 0.4716 - accuracy: 0.7673 - val_loss: 0.4601 - val_accuracy: 0.7732\n",
      "Epoch 62/100\n",
      "7776/7776 [==============================] - 56s 7ms/step - loss: 0.4703 - accuracy: 0.7671 - val_loss: 0.4597 - val_accuracy: 0.7713\n",
      "Epoch 63/100\n",
      "7776/7776 [==============================] - 58s 7ms/step - loss: 0.4695 - accuracy: 0.7683 - val_loss: 0.4584 - val_accuracy: 0.7729\n",
      "Epoch 64/100\n",
      "7776/7776 [==============================] - 55s 7ms/step - loss: 0.4683 - accuracy: 0.7691 - val_loss: 0.4558 - val_accuracy: 0.7744\n",
      "Epoch 65/100\n",
      "7776/7776 [==============================] - 56s 7ms/step - loss: 0.4673 - accuracy: 0.7689 - val_loss: 0.4559 - val_accuracy: 0.7741\n",
      "Epoch 66/100\n",
      "7776/7776 [==============================] - 56s 7ms/step - loss: 0.4674 - accuracy: 0.7690 - val_loss: 0.4552 - val_accuracy: 0.7757\n",
      "Epoch 67/100\n",
      "7776/7776 [==============================] - 56s 7ms/step - loss: 0.4667 - accuracy: 0.7702 - val_loss: 0.4551 - val_accuracy: 0.7739\n",
      "Epoch 68/100\n",
      "7776/7776 [==============================] - 55s 7ms/step - loss: 0.4652 - accuracy: 0.7702 - val_loss: 0.4516 - val_accuracy: 0.7787\n",
      "Epoch 69/100\n",
      "7776/7776 [==============================] - 56s 7ms/step - loss: 0.4646 - accuracy: 0.7713 - val_loss: 0.4540 - val_accuracy: 0.7755\n",
      "Epoch 70/100\n",
      "7776/7776 [==============================] - 57s 7ms/step - loss: 0.4631 - accuracy: 0.7715 - val_loss: 0.4509 - val_accuracy: 0.7770\n",
      "Epoch 71/100\n",
      "7776/7776 [==============================] - 57s 7ms/step - loss: 0.4630 - accuracy: 0.7709 - val_loss: 0.4517 - val_accuracy: 0.7765\n",
      "Epoch 72/100\n",
      "7776/7776 [==============================] - 56s 7ms/step - loss: 0.4616 - accuracy: 0.7726 - val_loss: 0.4511 - val_accuracy: 0.7760\n",
      "Epoch 73/100\n",
      "7776/7776 [==============================] - 57s 7ms/step - loss: 0.4608 - accuracy: 0.7728 - val_loss: 0.4468 - val_accuracy: 0.7790\n",
      "Epoch 74/100\n",
      "7776/7776 [==============================] - 56s 7ms/step - loss: 0.4597 - accuracy: 0.7738 - val_loss: 0.4552 - val_accuracy: 0.7738\n",
      "Epoch 75/100\n",
      "7776/7776 [==============================] - 57s 7ms/step - loss: 0.4591 - accuracy: 0.7736 - val_loss: 0.4500 - val_accuracy: 0.7759\n",
      "Epoch 76/100\n",
      "7776/7776 [==============================] - 57s 7ms/step - loss: 0.4585 - accuracy: 0.7738 - val_loss: 0.4510 - val_accuracy: 0.7751\n",
      "Epoch 77/100\n",
      "7776/7776 [==============================] - 58s 7ms/step - loss: 0.4579 - accuracy: 0.7742 - val_loss: 0.4472 - val_accuracy: 0.7776\n",
      "Epoch 78/100\n",
      "7776/7776 [==============================] - 57s 7ms/step - loss: 0.4576 - accuracy: 0.7749 - val_loss: 0.4456 - val_accuracy: 0.7781\n",
      "Epoch 79/100\n",
      "7776/7776 [==============================] - 56s 7ms/step - loss: 0.4561 - accuracy: 0.7752 - val_loss: 0.4488 - val_accuracy: 0.7771\n",
      "Epoch 80/100\n",
      "7776/7776 [==============================] - 57s 7ms/step - loss: 0.4558 - accuracy: 0.7750 - val_loss: 0.4517 - val_accuracy: 0.7756\n",
      "Epoch 81/100\n",
      "7776/7776 [==============================] - 57s 7ms/step - loss: 0.4555 - accuracy: 0.7751 - val_loss: 0.4426 - val_accuracy: 0.7805\n",
      "Epoch 82/100\n",
      "7776/7776 [==============================] - 55s 7ms/step - loss: 0.4541 - accuracy: 0.7763 - val_loss: 0.4477 - val_accuracy: 0.7783\n",
      "Epoch 83/100\n",
      "7776/7776 [==============================] - 55s 7ms/step - loss: 0.4537 - accuracy: 0.7761 - val_loss: 0.4418 - val_accuracy: 0.7808\n",
      "Epoch 84/100\n",
      "7776/7776 [==============================] - 55s 7ms/step - loss: 0.4533 - accuracy: 0.7762 - val_loss: 0.4480 - val_accuracy: 0.7788\n",
      "Epoch 85/100\n",
      "7776/7776 [==============================] - 56s 7ms/step - loss: 0.4528 - accuracy: 0.7763 - val_loss: 0.4388 - val_accuracy: 0.7832\n",
      "Epoch 86/100\n",
      "7776/7776 [==============================] - 56s 7ms/step - loss: 0.4514 - accuracy: 0.7775 - val_loss: 0.4414 - val_accuracy: 0.7817\n",
      "Epoch 87/100\n",
      "7776/7776 [==============================] - 56s 7ms/step - loss: 0.4513 - accuracy: 0.7777 - val_loss: 0.4391 - val_accuracy: 0.7826\n",
      "Epoch 88/100\n",
      "7776/7776 [==============================] - 58s 7ms/step - loss: 0.4519 - accuracy: 0.7774 - val_loss: 0.4523 - val_accuracy: 0.7759\n",
      "Epoch 89/100\n",
      "7776/7776 [==============================] - 58s 7ms/step - loss: 0.4518 - accuracy: 0.7773 - val_loss: 0.4433 - val_accuracy: 0.7803\n",
      "Epoch 90/100\n",
      "7776/7776 [==============================] - 52s 7ms/step - loss: 0.4506 - accuracy: 0.7783 - val_loss: 0.4637 - val_accuracy: 0.7706\n",
      "Epoch 91/100\n",
      "7776/7776 [==============================] - 56s 7ms/step - loss: 0.4504 - accuracy: 0.7784 - val_loss: 0.4407 - val_accuracy: 0.7811\n",
      "Epoch 92/100\n",
      "7776/7776 [==============================] - 58s 7ms/step - loss: 0.4497 - accuracy: 0.7786 - val_loss: 0.4423 - val_accuracy: 0.7797\n",
      "Epoch 93/100\n",
      "7776/7776 [==============================] - 54s 7ms/step - loss: 0.4497 - accuracy: 0.7794 - val_loss: 0.4452 - val_accuracy: 0.7792\n",
      "Epoch 94/100\n",
      "7776/7776 [==============================] - 59s 8ms/step - loss: 0.4492 - accuracy: 0.7788 - val_loss: 0.4380 - val_accuracy: 0.7840\n",
      "Epoch 95/100\n",
      "7776/7776 [==============================] - 56s 7ms/step - loss: 0.4489 - accuracy: 0.7786 - val_loss: 0.4416 - val_accuracy: 0.7781\n",
      "Epoch 96/100\n",
      "7776/7776 [==============================] - 56s 7ms/step - loss: 0.4473 - accuracy: 0.7794 - val_loss: 0.4547 - val_accuracy: 0.7753\n",
      "Epoch 97/100\n",
      "7776/7776 [==============================] - 56s 7ms/step - loss: 0.4478 - accuracy: 0.7796 - val_loss: 0.4382 - val_accuracy: 0.7832\n",
      "Epoch 98/100\n",
      "7776/7776 [==============================] - 56s 7ms/step - loss: 0.4472 - accuracy: 0.7806 - val_loss: 0.4374 - val_accuracy: 0.7806\n",
      "Epoch 99/100\n",
      "7776/7776 [==============================] - 57s 7ms/step - loss: 0.4468 - accuracy: 0.7798 - val_loss: 0.4415 - val_accuracy: 0.7793\n",
      "Epoch 100/100\n",
      "7776/7776 [==============================] - 58s 7ms/step - loss: 0.4458 - accuracy: 0.7798 - val_loss: 0.4412 - val_accuracy: 0.7822\n"
     ]
    },
    {
     "data": {
      "text/plain": [
       "<keras.src.callbacks.History at 0x18ba1920bb0>"
      ]
     },
     "execution_count": 11,
     "metadata": {},
     "output_type": "execute_result"
    }
   ],
   "source": [
    "input_shape = (X_train.shape[1],)\n",
    "model = tf.keras.models.Sequential([\n",
    "  tf.keras.layers.Dense(units=128, input_shape=input_shape, activation='relu'),\n",
    "  tf.keras.layers.Dropout(rate=0.1),\n",
    "  tf.keras.layers.Dense(units=128, activation='relu'),\n",
    "  tf.keras.layers.Dropout(rate=0.05),\n",
    "  tf.keras.layers.Dense(units=64, activation='relu'),\n",
    "  tf.keras.layers.Dense(units=1, activation='sigmoid')\n",
    "])\n",
    "\n",
    "\n",
    "model.compile(optimizer=tf.keras.optimizers.Adam(learning_rate=0.0001),\n",
    "              loss='binary_crossentropy',\n",
    "              metrics=['accuracy'])\n",
    "\n",
    "model.fit(X_train, y_train, epochs=100, batch_size=32, validation_split=0.2)"
   ]
  },
  {
   "cell_type": "code",
   "execution_count": 12,
   "id": "fca03429-ba26-4a3d-bbee-d9f27663795d",
   "metadata": {},
   "outputs": [
    {
     "name": "stdout",
     "output_type": "stream",
     "text": [
      "2430/2430 [==============================] - 7s 3ms/step - loss: 0.4409 - accuracy: 0.7828\n",
      "Test Loss: 0.4409387707710266, Test Accuracy: 0.7827938199043274\n"
     ]
    }
   ],
   "source": [
    "\n",
    "test_loss, test_accuracy = model.evaluate(X_test, y_test)\n",
    "print(f'Test Loss: {test_loss}, Test Accuracy: {test_accuracy}')\n"
   ]
  },
  {
   "cell_type": "code",
   "execution_count": 13,
   "id": "e46f96b3-0453-4a2e-83a7-4569a9fb53bb",
   "metadata": {},
   "outputs": [
    {
     "name": "stdout",
     "output_type": "stream",
     "text": [
      "2430/2430 [==============================] - 8s 2ms/step\n",
      "[[0]\n",
      " [0]\n",
      " [1]\n",
      " ...\n",
      " [1]\n",
      " [0]\n",
      " [1]]\n"
     ]
    }
   ],
   "source": [
    "from sklearn.metrics import confusion_matrix, recall_score\n",
    "\n",
    "# Prediksi label pada data uji\n",
    "y_pre = model.predict(X_test)\n",
    "y_pred = (y_pre > 0.5).astype(int)\n",
    "\n",
    "print(y_pred)"
   ]
  },
  {
   "cell_type": "code",
   "execution_count": 14,
   "id": "9c4cfd20-321b-47b0-af5d-9061395d4b0a",
   "metadata": {},
   "outputs": [
    {
     "name": "stderr",
     "output_type": "stream",
     "text": [
      "C:\\Users\\faisal\\AppData\\Local\\Temp\\ipykernel_19064\\2532579825.py:5: UserWarning: set_ticklabels() should only be used with a fixed number of ticks, i.e. after set_ticks() or using a FixedLocator.\n",
      "  f.set_xticklabels([' No Diabetes', 'Diabetes Disease'])\n"
     ]
    },
    {
     "data": {
      "text/plain": [
       "[Text(0, 0, ' No Diabetes'), Text(1, 0, 'Diabetes Disease')]"
      ]
     },
     "execution_count": 14,
     "metadata": {},
     "output_type": "execute_result"
    },
    {
     "data": {
      "image/png": "[encoded data removed]",
      "text/plain": [
       "<Figure size 640x480 with 1 Axes>"
      ]
     },
     "metadata": {},
     "output_type": "display_data"
    }
   ],
   "source": [
    "unique, counts = np.unique(y_test, return_counts=True)\n",
    "f = sns.barplot(x=unique, y=counts)\n",
    "f.set_title(\"Actual Diabetes\")\n",
    "f.set_title(\"Diabetes disease Actual\")\n",
    "f.set_xticklabels([' No Diabetes', 'Diabetes Disease'])\n"
   ]
  },
  {
   "cell_type": "code",
   "execution_count": 57,
   "id": "29734985-10fc-49b3-b924-684ad43ccdde",
   "metadata": {},
   "outputs": [
    {
     "name": "stderr",
     "output_type": "stream",
     "text": [
      "C:\\Users\\faisal\\AppData\\Local\\Temp\\ipykernel_19064\\97193249.py:5: UserWarning: set_ticklabels() should only be used with a fixed number of ticks, i.e. after set_ticks() or using a FixedLocator.\n",
      "  f.set_xticklabels(['No Diabetes disease', 'Diabetes Disease'])\n"
     ]
    },
    {
     "data": {
      "text/plain": [
       "[Text(0, 0, 'No Diabetes disease'), Text(1, 0, 'Diabetes Disease')]"
      ]
     },
     "execution_count": 57,
     "metadata": {},
     "output_type": "execute_result"
    },
    {
     "data": {
      "image/png": "[encoded data removed]",
      "text/plain": [
       "<Figure size 640x480 with 1 Axes>"
      ]
     },
     "metadata": {},
     "output_type": "display_data"
    }
   ],
   "source": [
    "unique, counts = np.unique(y_pred, return_counts=True)\n",
    "f = sns.barplot(x=unique, y=counts)\n",
    "f.set_title(\"Predicted distribution\")\n",
    "f.set_title(\"Diabetes disease prediction\")\n",
    "f.set_xticklabels(['No Diabetes disease', 'Diabetes Disease'])\n"
   ]
  },
  {
   "cell_type": "code",
   "execution_count": 58,
   "id": "ff19321c-161d-4bfb-ba0f-764305df4fcd",
   "metadata": {},
   "outputs": [
    {
     "name": "stdout",
     "output_type": "stream",
     "text": [
      "Confusion Matrix:\n",
      "[[29297  9633]\n",
      " [ 7255 31566]]\n",
      "\n",
      "Recall Score: 0.8131166121429123\n"
     ]
    }
   ],
   "source": [
    "conf_matrix = confusion_matrix(y_test, y_pred)\n",
    "\n",
    "recall = recall_score(y_test, y_pred)\n",
    "\n",
    "print(\"Confusion Matrix:\")\n",
    "print(conf_matrix)\n",
    "\n",
    "print(\"\\nRecall Score:\", recall)"
   ]
  },
  {
   "cell_type": "code",
   "execution_count": 59,
   "id": "31c60e63-0499-4737-8340-f4d3218d28c7",
   "metadata": {},
   "outputs": [
    {
     "name": "stdout",
     "output_type": "stream",
     "text": [
      "1/1 [==============================] - 0s 30ms/step\n",
      "[[0.44042888]]\n"
     ]
    }
   ],
   "source": [
    "data_list = [[1.0, 2.0, 26.0, 1.0, 1.0, 0.0, 0.0, 0.0, 1.0, 0.0, 1.0, 1.0, 1.0]]\n",
    "\n",
    "\n",
    "data_array = np.array(data_list)\n",
    "\n",
    "baru = model.predict(data_array)\n",
    "print(baru)"
   ]
  },
  {
   "cell_type": "code",
   "execution_count": 71,
   "id": "e21a93b7-27fb-4eba-9282-fe4ef629ea50",
   "metadata": {},
   "outputs": [],
   "source": [
    "import os\n",
    "from tensorflow.python.saved_model.save import save\n",
    "\n",
    "save_dir = os.path.join('tmp', 'baru/diabetes_model.h5')\n",
    "model.save(\"model.h5\")\n"
   ]
  },
  {
   "cell_type": "code",
   "execution_count": 61,
   "id": "b0dece50-cd3e-40df-b8c1-991c7195a7f0",
   "metadata": {},
   "outputs": [
    {
     "name": "stdout",
     "output_type": "stream",
     "text": [
      "C:\\Users\\faisal\n"
     ]
    }
   ],
   "source": [
    "cd "
   ]
  },
  {
   "cell_type": "code",
   "execution_count": 62,
   "id": "0ae186f4-dc10-461b-bdb4-03d36190b6f9",
   "metadata": {},
   "outputs": [
    {
     "name": "stdout",
     "output_type": "stream",
     "text": [
      "C:\\Users\\faisal\\tmp\\diabetes\n"
     ]
    }
   ],
   "source": [
    "cd tmp/diabetes\n"
   ]
  },
  {
   "cell_type": "code",
   "execution_count": 36,
   "id": "38f418e9-0322-4952-8f01-e460d138b6a1",
   "metadata": {},
   "outputs": [
    {
     "name": "stdout",
     "output_type": "stream",
     "text": [
      " Volume in drive C is OS\n",
      " Volume Serial Number is 6E14-AA70\n",
      "\n",
      " Directory of C:\\Users\\faisal\\tmp\\diabetes\n",
      "\n",
      "20/12/2023  21.30    <DIR>          .\n",
      "20/12/2023  21.26    <DIR>          ..\n",
      "20/12/2023  21.28           362.112 saved_model.h5\n",
      "20/12/2023  21.30    <DIR>          tmp\n",
      "               1 File(s)        362.112 bytes\n",
      "               3 Dir(s)  65.568.653.312 bytes free\n"
     ]
    }
   ],
   "source": [
    "ls"
   ]
  },
  {
   "cell_type": "code",
   "execution_count": null,
   "id": "00c730bf-1784-4f5b-8ab6-0731d5e1585e",
   "metadata": {},
   "outputs": [],
   "source": [
    "tf.saved_model.save(model, path_to_dir)"
   ]
  }
 ],
 "metadata": {
  "kernelspec": {
   "display_name": "Python 3 (ipykernel)",
   "language": "python",
   "name": "python3"
  },
  "language_info": {
   "codemirror_mode": {
    "name": "ipython",
    "version": 3
   },
   "file_extension": ".py",
   "mimetype": "text/x-python",
   "name": "python",
   "nbconvert_exporter": "python",
   "pygments_lexer": "ipython3",
   "version": "3.9.6"
  }
 },
 "nbformat": 4,
 "nbformat_minor": 5
}
