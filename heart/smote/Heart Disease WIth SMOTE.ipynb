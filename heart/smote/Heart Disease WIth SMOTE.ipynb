{
 "cells": [
  {
   "cell_type": "code",
   "execution_count": 230,
   "id": "4f755f23-09e7-4e3c-8865-2a46159178b8",
   "metadata": {},
   "outputs": [],
   "source": [
    "import numpy as np\n",
    "import pandas as pd\n",
    "import tensorflow as tf\n",
    "from tensorflow.keras.layers import Dense\n",
    "from tensorflow.keras.models import Sequential\n",
    "from sklearn.model_selection import train_test_split\n",
    "from imblearn.over_sampling import SMOTE\n",
    "from collections import Counter\n",
    "import seaborn as sns\n"
   ]
  },
  {
   "cell_type": "code",
   "execution_count": 231,
   "id": "c20819a5-48af-4338-a8ce-bf52de20e24e",
   "metadata": {},
   "outputs": [],
   "source": [
    "file = 'heart-dataset.csv'\n",
    "df = pd.read_csv(file)"
   ]
  },
  {
   "cell_type": "code",
   "execution_count": 232,
   "id": "fbfc7e40-de91-4fbd-a139-d77e1c7b3f44",
   "metadata": {},
   "outputs": [
    {
     "name": "stdout",
     "output_type": "stream",
     "text": [
      "DataFrame sebelum menghapus duplikat:\n",
      "        HeartDiseaseorAttack  HighBP  HighChol  CholCheck   BMI  Smoker  \\\n",
      "0                        0.0     1.0       1.0        1.0  40.0     1.0   \n",
      "1                        0.0     0.0       0.0        0.0  25.0     1.0   \n",
      "2                        0.0     1.0       1.0        1.0  28.0     0.0   \n",
      "3                        0.0     1.0       0.0        1.0  27.0     0.0   \n",
      "4                        0.0     1.0       1.0        1.0  24.0     0.0   \n",
      "...                      ...     ...       ...        ...   ...     ...   \n",
      "253675                   0.0     1.0       1.0        1.0  45.0     0.0   \n",
      "253676                   0.0     1.0       1.0        1.0  18.0     0.0   \n",
      "253677                   0.0     0.0       0.0        1.0  28.0     0.0   \n",
      "253678                   0.0     1.0       0.0        1.0  23.0     0.0   \n",
      "253679                   1.0     1.0       1.0        1.0  25.0     0.0   \n",
      "\n",
      "        Stroke  Diabetes  PhysActivity  Fruits  ...  AnyHealthcare  \\\n",
      "0          0.0       0.0           0.0     0.0  ...            1.0   \n",
      "1          0.0       0.0           1.0     0.0  ...            0.0   \n",
      "2          0.0       0.0           0.0     1.0  ...            1.0   \n",
      "3          0.0       0.0           1.0     1.0  ...            1.0   \n",
      "4          0.0       0.0           1.0     1.0  ...            1.0   \n",
      "...        ...       ...           ...     ...  ...            ...   \n",
      "253675     0.0       0.0           0.0     1.0  ...            1.0   \n",
      "253676     0.0       2.0           0.0     0.0  ...            1.0   \n",
      "253677     0.0       0.0           1.0     1.0  ...            1.0   \n",
      "253678     0.0       0.0           0.0     1.0  ...            1.0   \n",
      "253679     0.0       2.0           1.0     1.0  ...            1.0   \n",
      "\n",
      "        NoDocbcCost  GenHlth  MentHlth  PhysHlth  DiffWalk  Sex   Age  \\\n",
      "0               0.0      5.0      18.0      15.0       1.0  0.0   9.0   \n",
      "1               1.0      3.0       0.0       0.0       0.0  0.0   7.0   \n",
      "2               1.0      5.0      30.0      30.0       1.0  0.0   9.0   \n",
      "3               0.0      2.0       0.0       0.0       0.0  0.0  11.0   \n",
      "4               0.0      2.0       3.0       0.0       0.0  0.0  11.0   \n",
      "...             ...      ...       ...       ...       ...  ...   ...   \n",
      "253675          0.0      3.0       0.0       5.0       0.0  1.0   5.0   \n",
      "253676          0.0      4.0       0.0       0.0       1.0  0.0  11.0   \n",
      "253677          0.0      1.0       0.0       0.0       0.0  0.0   2.0   \n",
      "253678          0.0      3.0       0.0       0.0       0.0  1.0   7.0   \n",
      "253679          0.0      2.0       0.0       0.0       0.0  0.0   9.0   \n",
      "\n",
      "        Education  Income  \n",
      "0             4.0     3.0  \n",
      "1             6.0     1.0  \n",
      "2             4.0     8.0  \n",
      "3             3.0     6.0  \n",
      "4             5.0     4.0  \n",
      "...           ...     ...  \n",
      "253675        6.0     7.0  \n",
      "253676        2.0     4.0  \n",
      "253677        5.0     2.0  \n",
      "253678        5.0     1.0  \n",
      "253679        6.0     2.0  \n",
      "\n",
      "[253680 rows x 22 columns]\n",
      "DataFrame setelah menghapus duplikat:\n",
      "        HeartDiseaseorAttack  HighBP  HighChol  CholCheck   BMI  Smoker  \\\n",
      "0                        0.0     1.0       1.0        1.0  40.0     1.0   \n",
      "1                        0.0     0.0       0.0        0.0  25.0     1.0   \n",
      "2                        0.0     1.0       1.0        1.0  28.0     0.0   \n",
      "3                        0.0     1.0       0.0        1.0  27.0     0.0   \n",
      "4                        0.0     1.0       1.0        1.0  24.0     0.0   \n",
      "...                      ...     ...       ...        ...   ...     ...   \n",
      "253675                   0.0     1.0       1.0        1.0  45.0     0.0   \n",
      "253676                   0.0     1.0       1.0        1.0  18.0     0.0   \n",
      "253677                   0.0     0.0       0.0        1.0  28.0     0.0   \n",
      "253678                   0.0     1.0       0.0        1.0  23.0     0.0   \n",
      "253679                   1.0     1.0       1.0        1.0  25.0     0.0   \n",
      "\n",
      "        Stroke  Diabetes  PhysActivity  Fruits  ...  AnyHealthcare  \\\n",
      "0          0.0       0.0           0.0     0.0  ...            1.0   \n",
      "1          0.0       0.0           1.0     0.0  ...            0.0   \n",
      "2          0.0       0.0           0.0     1.0  ...            1.0   \n",
      "3          0.0       0.0           1.0     1.0  ...            1.0   \n",
      "4          0.0       0.0           1.0     1.0  ...            1.0   \n",
      "...        ...       ...           ...     ...  ...            ...   \n",
      "253675     0.0       0.0           0.0     1.0  ...            1.0   \n",
      "253676     0.0       2.0           0.0     0.0  ...            1.0   \n",
      "253677     0.0       0.0           1.0     1.0  ...            1.0   \n",
      "253678     0.0       0.0           0.0     1.0  ...            1.0   \n",
      "253679     0.0       2.0           1.0     1.0  ...            1.0   \n",
      "\n",
      "        NoDocbcCost  GenHlth  MentHlth  PhysHlth  DiffWalk  Sex   Age  \\\n",
      "0               0.0      5.0      18.0      15.0       1.0  0.0   9.0   \n",
      "1               1.0      3.0       0.0       0.0       0.0  0.0   7.0   \n",
      "2               1.0      5.0      30.0      30.0       1.0  0.0   9.0   \n",
      "3               0.0      2.0       0.0       0.0       0.0  0.0  11.0   \n",
      "4               0.0      2.0       3.0       0.0       0.0  0.0  11.0   \n",
      "...             ...      ...       ...       ...       ...  ...   ...   \n",
      "253675          0.0      3.0       0.0       5.0       0.0  1.0   5.0   \n",
      "253676          0.0      4.0       0.0       0.0       1.0  0.0  11.0   \n",
      "253677          0.0      1.0       0.0       0.0       0.0  0.0   2.0   \n",
      "253678          0.0      3.0       0.0       0.0       0.0  1.0   7.0   \n",
      "253679          0.0      2.0       0.0       0.0       0.0  0.0   9.0   \n",
      "\n",
      "        Education  Income  \n",
      "0             4.0     3.0  \n",
      "1             6.0     1.0  \n",
      "2             4.0     8.0  \n",
      "3             3.0     6.0  \n",
      "4             5.0     4.0  \n",
      "...           ...     ...  \n",
      "253675        6.0     7.0  \n",
      "253676        2.0     4.0  \n",
      "253677        5.0     2.0  \n",
      "253678        5.0     1.0  \n",
      "253679        6.0     2.0  \n",
      "\n",
      "[229781 rows x 22 columns]\n"
     ]
    }
   ],
   "source": [
    "# Tampilkan DataFrame sebelum menghapus duplikat\n",
    "print(\"DataFrame sebelum menghapus duplikat:\")\n",
    "print(df)\n",
    "\n",
    "print(\"DataFrame setelah menghapus duplikat:\")\n",
    "\n",
    "# Hapus data duplikat berdasarkan seluruh kolom\n",
    "hapus = df.drop_duplicates(inplace=True)\n",
    "print(df)\n",
    "# Tampilkan DataFrame setelah menghapus duplikat\n"
   ]
  },
  {
   "cell_type": "code",
   "execution_count": 233,
   "id": "62f87618-eda9-4312-b847-002c9fb427f6",
   "metadata": {},
   "outputs": [],
   "source": [
    "df = df.reindex(columns=['HeartDiseaseorAttack', 'Sex', 'Age', 'BMI', 'HighBP', 'HighChol', 'Stroke', 'Diabetes', 'Smoker', 'HvyAlcoholConsump', 'PhysActivity', 'Fruits', 'Veggies', 'DiffWalk'])"
   ]
  },
  {
   "cell_type": "code",
   "execution_count": 234,
   "id": "26827aca-d817-4b55-8c99-2cfa0e7b2337",
   "metadata": {},
   "outputs": [],
   "source": [
    "names = {'HeartDiseaseorAttack':'sakitJantung', 'Sex':'kelamin', 'Age':'umur', 'BMI':'bmi', 'HighBP':'tekananDarah', 'HighChol':'kolesterol', 'Stroke':'stroke', 'Diabetes':'diabetes', 'Smoker':'rokok', 'HvyAlcoholConsump':'alkohol', 'PhysActivity':'olahraga', 'Fruits':'buah', 'Veggies':'sayur', 'DiffWalk':'susahJalan'}\n",
    "df = df.rename(columns=names)"
   ]
  },
  {
   "cell_type": "code",
   "execution_count": 235,
   "id": "8fcdb796-d332-4ebb-97c0-172751470664",
   "metadata": {},
   "outputs": [],
   "source": [
    "# replace umur start from 0\n",
    "df['umur'] = df['umur'].replace([1.0, 2.0, 3.0, 4.0, 5.0, 6.0, 7.0, 8.0, 9.0, 10.0, 11.0, 12.0, 13.0],\n",
    " [0.0, 1.0, 2.0, 3.0, 4.0, 5.0, 6.0, 7.0, 8.0, 9.0, 10.0, 11.0, 12.0]).astype(float)"
   ]
  },
  {
   "cell_type": "code",
   "execution_count": 236,
   "id": "2707a2b6-c4d1-4512-a9a7-3b702a6f6ad6",
   "metadata": {},
   "outputs": [
    {
     "name": "stdout",
     "output_type": "stream",
     "text": [
      "sakitJantung\n",
      "[0. 1.]\n",
      "kelamin\n",
      "[0. 1.]\n",
      "umur\n",
      "[ 8.  6. 10.  9.  7. 12.  3.  5.  1. 11.  4.  0.  2.]\n",
      "bmi\n",
      "[40. 25. 28. 27. 24. 30. 34. 26. 33. 21. 23. 22. 38. 32. 37. 31. 29. 20.\n",
      " 35. 45. 39. 19. 47. 18. 36. 43. 55. 49. 42. 17. 16. 41. 44. 50. 59. 48.\n",
      " 52. 46. 54. 57. 53. 14. 15. 51. 58. 63. 61. 56. 74. 62. 64. 66. 73. 85.\n",
      " 60. 67. 65. 70. 82. 79. 92. 68. 72. 88. 96. 13. 81. 71. 75. 12. 77. 69.\n",
      " 76. 87. 89. 84. 95. 98. 91. 86. 83. 80. 90. 78.]\n",
      "tekananDarah\n",
      "[1. 0.]\n",
      "kolesterol\n",
      "[1. 0.]\n",
      "stroke\n",
      "[0. 1.]\n",
      "diabetes\n",
      "[0. 2. 1.]\n",
      "rokok\n",
      "[1. 0.]\n",
      "alkohol\n",
      "[0. 1.]\n",
      "olahraga\n",
      "[0. 1.]\n",
      "buah\n",
      "[0. 1.]\n",
      "sayur\n",
      "[1. 0.]\n",
      "susahJalan\n",
      "[1. 0.]\n"
     ]
    }
   ],
   "source": [
    "cols = df.columns\n",
    "\n",
    "for names in cols:\n",
    "  print(names)\n",
    "  unique_values = df[names].unique()\n",
    "  print(unique_values)"
   ]
  },
  {
   "cell_type": "markdown",
   "id": "21bf1c30-508c-486b-a7ca-1d02f6c55809",
   "metadata": {},
   "source": [
    "#UJI COBA"
   ]
  },
  {
   "cell_type": "code",
   "execution_count": 237,
   "id": "7ed33806-3ec9-40fc-8b28-f44bbec61a88",
   "metadata": {},
   "outputs": [
    {
     "data": {
      "text/plain": [
       "(229781, 14)"
      ]
     },
     "execution_count": 237,
     "metadata": {},
     "output_type": "execute_result"
    }
   ],
   "source": [
    "df.shape"
   ]
  },
  {
   "cell_type": "code",
   "execution_count": 238,
   "id": "38748fa6-e815-4e34-a484-aa4a05b9d7a1",
   "metadata": {},
   "outputs": [],
   "source": [
    "from imblearn.over_sampling import SMOTE\n",
    "X = df.drop('sakitJantung', axis=1)\n",
    "y = df['sakitJantung']\n",
    "sm = SMOTE(random_state=42, k_neighbors=5)\n",
    "X_res, y_res = sm.fit_resample(X, y)\n",
    "X_train, X_test, y_train, y_test = train_test_split(X_res, y_res, test_size=0.2, random_state=42)\n",
    "\n",
    "# scaler = MinMaxScaler()\n",
    "# x_train = scaler.fit_transform(x_train)\n",
    "# x_test = scaler.transform(x_test)"
   ]
  },
  {
   "cell_type": "code",
   "execution_count": 239,
   "id": "88fa2f54-b4cb-4f56-979a-3e73d46099d7",
   "metadata": {},
   "outputs": [
    {
     "name": "stdout",
     "output_type": "stream",
     "text": [
      "Distribusi kelas sebelum SMOTE: Counter({0.0: 206064, 1.0: 23717})\n",
      "Distribusi kelas setelah SMOTE: Counter({0.0: 206064, 1.0: 206064})\n"
     ]
    }
   ],
   "source": [
    "print(\"Distribusi kelas sebelum SMOTE:\", Counter(y))\n",
    "print(\"Distribusi kelas setelah SMOTE:\", Counter(y_res))"
   ]
  },
  {
   "cell_type": "code",
   "execution_count": 240,
   "id": "c3875045-7f11-4320-b758-354b633c53c1",
   "metadata": {},
   "outputs": [
    {
     "name": "stderr",
     "output_type": "stream",
     "text": [
      "c:\\users\\faisal\\appdata\\local\\programs\\python\\python39\\lib\\site-packages\\keras\\src\\layers\\core\\dense.py:73: UserWarning: Do not pass an `input_shape`/`input_dim` argument to a layer. When using Sequential models, prefer using an `Input(shape)` object as the first layer in the model instead.\n",
      "  super().__init__(activity_regularizer=activity_regularizer, **kwargs)\n"
     ]
    },
    {
     "name": "stdout",
     "output_type": "stream",
     "text": [
      "Epoch 1/100\n",
      "\u001b[1m8243/8243\u001b[0m \u001b[32m━━━━━━━━━━━━━━━━━━━━\u001b[0m\u001b[37m\u001b[0m \u001b[1m38s\u001b[0m 4ms/step - accuracy: 0.6763 - loss: 0.6032 - val_accuracy: 0.7468 - val_loss: 0.5176\n",
      "Epoch 2/100\n",
      "\u001b[1m8243/8243\u001b[0m \u001b[32m━━━━━━━━━━━━━━━━━━━━\u001b[0m\u001b[37m\u001b[0m \u001b[1m28s\u001b[0m 3ms/step - accuracy: 0.7412 - loss: 0.5243 - val_accuracy: 0.7510 - val_loss: 0.5115\n",
      "Epoch 3/100\n",
      "\u001b[1m8243/8243\u001b[0m \u001b[32m━━━━━━━━━━━━━━━━━━━━\u001b[0m\u001b[37m\u001b[0m \u001b[1m31s\u001b[0m 4ms/step - accuracy: 0.7466 - loss: 0.5173 - val_accuracy: 0.7539 - val_loss: 0.5093\n",
      "Epoch 4/100\n",
      "\u001b[1m8243/8243\u001b[0m \u001b[32m━━━━━━━━━━━━━━━━━━━━\u001b[0m\u001b[37m\u001b[0m \u001b[1m30s\u001b[0m 4ms/step - accuracy: 0.7496 - loss: 0.5128 - val_accuracy: 0.7555 - val_loss: 0.5061\n",
      "Epoch 5/100\n",
      "\u001b[1m8243/8243\u001b[0m \u001b[32m━━━━━━━━━━━━━━━━━━━━\u001b[0m\u001b[37m\u001b[0m \u001b[1m28s\u001b[0m 3ms/step - accuracy: 0.7517 - loss: 0.5111 - val_accuracy: 0.7571 - val_loss: 0.5059\n",
      "Epoch 6/100\n",
      "\u001b[1m8243/8243\u001b[0m \u001b[32m━━━━━━━━━━━━━━━━━━━━\u001b[0m\u001b[37m\u001b[0m \u001b[1m28s\u001b[0m 3ms/step - accuracy: 0.7560 - loss: 0.5068 - val_accuracy: 0.7578 - val_loss: 0.5049\n",
      "Epoch 7/100\n",
      "\u001b[1m8243/8243\u001b[0m \u001b[32m━━━━━━━━━━━━━━━━━━━━\u001b[0m\u001b[37m\u001b[0m \u001b[1m28s\u001b[0m 3ms/step - accuracy: 0.7574 - loss: 0.5031 - val_accuracy: 0.7602 - val_loss: 0.4996\n",
      "Epoch 8/100\n",
      "\u001b[1m8243/8243\u001b[0m \u001b[32m━━━━━━━━━━━━━━━━━━━━\u001b[0m\u001b[37m\u001b[0m \u001b[1m28s\u001b[0m 3ms/step - accuracy: 0.7582 - loss: 0.5026 - val_accuracy: 0.7628 - val_loss: 0.4960\n",
      "Epoch 9/100\n",
      "\u001b[1m8243/8243\u001b[0m \u001b[32m━━━━━━━━━━━━━━━━━━━━\u001b[0m\u001b[37m\u001b[0m \u001b[1m29s\u001b[0m 3ms/step - accuracy: 0.7594 - loss: 0.4994 - val_accuracy: 0.7643 - val_loss: 0.4940\n",
      "Epoch 10/100\n",
      "\u001b[1m8243/8243\u001b[0m \u001b[32m━━━━━━━━━━━━━━━━━━━━\u001b[0m\u001b[37m\u001b[0m \u001b[1m28s\u001b[0m 3ms/step - accuracy: 0.7618 - loss: 0.4973 - val_accuracy: 0.7666 - val_loss: 0.4919\n",
      "Epoch 11/100\n",
      "\u001b[1m8243/8243\u001b[0m \u001b[32m━━━━━━━━━━━━━━━━━━━━\u001b[0m\u001b[37m\u001b[0m \u001b[1m28s\u001b[0m 3ms/step - accuracy: 0.7626 - loss: 0.4955 - val_accuracy: 0.7652 - val_loss: 0.4920\n",
      "Epoch 12/100\n",
      "\u001b[1m8243/8243\u001b[0m \u001b[32m━━━━━━━━━━━━━━━━━━━━\u001b[0m\u001b[37m\u001b[0m \u001b[1m28s\u001b[0m 3ms/step - accuracy: 0.7623 - loss: 0.4938 - val_accuracy: 0.7637 - val_loss: 0.4930\n",
      "Epoch 13/100\n",
      "\u001b[1m8243/8243\u001b[0m \u001b[32m━━━━━━━━━━━━━━━━━━━━\u001b[0m\u001b[37m\u001b[0m \u001b[1m27s\u001b[0m 3ms/step - accuracy: 0.7642 - loss: 0.4915 - val_accuracy: 0.7699 - val_loss: 0.4830\n",
      "Epoch 14/100\n",
      "\u001b[1m8243/8243\u001b[0m \u001b[32m━━━━━━━━━━━━━━━━━━━━\u001b[0m\u001b[37m\u001b[0m \u001b[1m28s\u001b[0m 3ms/step - accuracy: 0.7672 - loss: 0.4868 - val_accuracy: 0.7697 - val_loss: 0.4830\n",
      "Epoch 15/100\n",
      "\u001b[1m8243/8243\u001b[0m \u001b[32m━━━━━━━━━━━━━━━━━━━━\u001b[0m\u001b[37m\u001b[0m \u001b[1m28s\u001b[0m 3ms/step - accuracy: 0.7681 - loss: 0.4854 - val_accuracy: 0.7771 - val_loss: 0.4722\n",
      "Epoch 16/100\n",
      "\u001b[1m8243/8243\u001b[0m \u001b[32m━━━━━━━━━━━━━━━━━━━━\u001b[0m\u001b[37m\u001b[0m \u001b[1m27s\u001b[0m 3ms/step - accuracy: 0.7696 - loss: 0.4811 - val_accuracy: 0.7798 - val_loss: 0.4678\n",
      "Epoch 17/100\n",
      "\u001b[1m8243/8243\u001b[0m \u001b[32m━━━━━━━━━━━━━━━━━━━━\u001b[0m\u001b[37m\u001b[0m \u001b[1m27s\u001b[0m 3ms/step - accuracy: 0.7706 - loss: 0.4804 - val_accuracy: 0.7815 - val_loss: 0.4628\n",
      "Epoch 18/100\n",
      "\u001b[1m8243/8243\u001b[0m \u001b[32m━━━━━━━━━━━━━━━━━━━━\u001b[0m\u001b[37m\u001b[0m \u001b[1m28s\u001b[0m 3ms/step - accuracy: 0.7744 - loss: 0.4753 - val_accuracy: 0.7760 - val_loss: 0.4741\n",
      "Epoch 19/100\n",
      "\u001b[1m8243/8243\u001b[0m \u001b[32m━━━━━━━━━━━━━━━━━━━━\u001b[0m\u001b[37m\u001b[0m \u001b[1m28s\u001b[0m 3ms/step - accuracy: 0.7771 - loss: 0.4711 - val_accuracy: 0.7864 - val_loss: 0.4568\n",
      "Epoch 20/100\n",
      "\u001b[1m8243/8243\u001b[0m \u001b[32m━━━━━━━━━━━━━━━━━━━━\u001b[0m\u001b[37m\u001b[0m \u001b[1m28s\u001b[0m 3ms/step - accuracy: 0.7778 - loss: 0.4690 - val_accuracy: 0.7893 - val_loss: 0.4487\n",
      "Epoch 21/100\n",
      "\u001b[1m8243/8243\u001b[0m \u001b[32m━━━━━━━━━━━━━━━━━━━━\u001b[0m\u001b[37m\u001b[0m \u001b[1m27s\u001b[0m 3ms/step - accuracy: 0.7792 - loss: 0.4677 - val_accuracy: 0.7905 - val_loss: 0.4506\n",
      "Epoch 22/100\n",
      "\u001b[1m8243/8243\u001b[0m \u001b[32m━━━━━━━━━━━━━━━━━━━━\u001b[0m\u001b[37m\u001b[0m \u001b[1m28s\u001b[0m 3ms/step - accuracy: 0.7819 - loss: 0.4617 - val_accuracy: 0.7909 - val_loss: 0.4495\n",
      "Epoch 23/100\n",
      "\u001b[1m8243/8243\u001b[0m \u001b[32m━━━━━━━━━━━━━━━━━━━━\u001b[0m\u001b[37m\u001b[0m \u001b[1m28s\u001b[0m 3ms/step - accuracy: 0.7833 - loss: 0.4601 - val_accuracy: 0.7967 - val_loss: 0.4386\n",
      "Epoch 24/100\n",
      "\u001b[1m8243/8243\u001b[0m \u001b[32m━━━━━━━━━━━━━━━━━━━━\u001b[0m\u001b[37m\u001b[0m \u001b[1m27s\u001b[0m 3ms/step - accuracy: 0.7839 - loss: 0.4566 - val_accuracy: 0.7979 - val_loss: 0.4378\n",
      "Epoch 25/100\n",
      "\u001b[1m8243/8243\u001b[0m \u001b[32m━━━━━━━━━━━━━━━━━━━━\u001b[0m\u001b[37m\u001b[0m \u001b[1m28s\u001b[0m 3ms/step - accuracy: 0.7863 - loss: 0.4531 - val_accuracy: 0.7988 - val_loss: 0.4340\n",
      "Epoch 26/100\n",
      "\u001b[1m8243/8243\u001b[0m \u001b[32m━━━━━━━━━━━━━━━━━━━━\u001b[0m\u001b[37m\u001b[0m \u001b[1m27s\u001b[0m 3ms/step - accuracy: 0.7849 - loss: 0.4526 - val_accuracy: 0.7938 - val_loss: 0.4394\n",
      "Epoch 27/100\n",
      "\u001b[1m8243/8243\u001b[0m \u001b[32m━━━━━━━━━━━━━━━━━━━━\u001b[0m\u001b[37m\u001b[0m \u001b[1m28s\u001b[0m 3ms/step - accuracy: 0.7879 - loss: 0.4477 - val_accuracy: 0.8017 - val_loss: 0.4247\n",
      "Epoch 28/100\n",
      "\u001b[1m8243/8243\u001b[0m \u001b[32m━━━━━━━━━━━━━━━━━━━━\u001b[0m\u001b[37m\u001b[0m \u001b[1m27s\u001b[0m 3ms/step - accuracy: 0.7888 - loss: 0.4458 - val_accuracy: 0.8010 - val_loss: 0.4229\n",
      "Epoch 29/100\n",
      "\u001b[1m8243/8243\u001b[0m \u001b[32m━━━━━━━━━━━━━━━━━━━━\u001b[0m\u001b[37m\u001b[0m \u001b[1m28s\u001b[0m 3ms/step - accuracy: 0.7896 - loss: 0.4436 - val_accuracy: 0.8002 - val_loss: 0.4265\n",
      "Epoch 30/100\n",
      "\u001b[1m8243/8243\u001b[0m \u001b[32m━━━━━━━━━━━━━━━━━━━━\u001b[0m\u001b[37m\u001b[0m \u001b[1m27s\u001b[0m 3ms/step - accuracy: 0.7901 - loss: 0.4425 - val_accuracy: 0.8000 - val_loss: 0.4238\n",
      "Epoch 31/100\n",
      "\u001b[1m8243/8243\u001b[0m \u001b[32m━━━━━━━━━━━━━━━━━━━━\u001b[0m\u001b[37m\u001b[0m \u001b[1m27s\u001b[0m 3ms/step - accuracy: 0.7944 - loss: 0.4381 - val_accuracy: 0.8017 - val_loss: 0.4173\n",
      "Epoch 32/100\n",
      "\u001b[1m8243/8243\u001b[0m \u001b[32m━━━━━━━━━━━━━━━━━━━━\u001b[0m\u001b[37m\u001b[0m \u001b[1m27s\u001b[0m 3ms/step - accuracy: 0.7937 - loss: 0.4357 - val_accuracy: 0.8076 - val_loss: 0.4109\n",
      "Epoch 33/100\n",
      "\u001b[1m8243/8243\u001b[0m \u001b[32m━━━━━━━━━━━━━━━━━━━━\u001b[0m\u001b[37m\u001b[0m \u001b[1m27s\u001b[0m 3ms/step - accuracy: 0.7956 - loss: 0.4323 - val_accuracy: 0.8078 - val_loss: 0.4082\n",
      "Epoch 34/100\n",
      "\u001b[1m8243/8243\u001b[0m \u001b[32m━━━━━━━━━━━━━━━━━━━━\u001b[0m\u001b[37m\u001b[0m \u001b[1m27s\u001b[0m 3ms/step - accuracy: 0.7961 - loss: 0.4307 - val_accuracy: 0.8089 - val_loss: 0.4068\n",
      "Epoch 35/100\n",
      "\u001b[1m8243/8243\u001b[0m \u001b[32m━━━━━━━━━━━━━━━━━━━━\u001b[0m\u001b[37m\u001b[0m \u001b[1m27s\u001b[0m 3ms/step - accuracy: 0.7975 - loss: 0.4287 - val_accuracy: 0.8087 - val_loss: 0.4108\n",
      "Epoch 36/100\n",
      "\u001b[1m8243/8243\u001b[0m \u001b[32m━━━━━━━━━━━━━━━━━━━━\u001b[0m\u001b[37m\u001b[0m \u001b[1m27s\u001b[0m 3ms/step - accuracy: 0.7974 - loss: 0.4274 - val_accuracy: 0.8099 - val_loss: 0.4044\n",
      "Epoch 37/100\n",
      "\u001b[1m8243/8243\u001b[0m \u001b[32m━━━━━━━━━━━━━━━━━━━━\u001b[0m\u001b[37m\u001b[0m \u001b[1m27s\u001b[0m 3ms/step - accuracy: 0.8003 - loss: 0.4237 - val_accuracy: 0.8108 - val_loss: 0.4045\n",
      "Epoch 38/100\n",
      "\u001b[1m8243/8243\u001b[0m \u001b[32m━━━━━━━━━━━━━━━━━━━━\u001b[0m\u001b[37m\u001b[0m \u001b[1m27s\u001b[0m 3ms/step - accuracy: 0.8007 - loss: 0.4216 - val_accuracy: 0.8118 - val_loss: 0.3983\n",
      "Epoch 39/100\n",
      "\u001b[1m8243/8243\u001b[0m \u001b[32m━━━━━━━━━━━━━━━━━━━━\u001b[0m\u001b[37m\u001b[0m \u001b[1m27s\u001b[0m 3ms/step - accuracy: 0.8024 - loss: 0.4193 - val_accuracy: 0.8118 - val_loss: 0.3987\n",
      "Epoch 40/100\n",
      "\u001b[1m8243/8243\u001b[0m \u001b[32m━━━━━━━━━━━━━━━━━━━━\u001b[0m\u001b[37m\u001b[0m \u001b[1m28s\u001b[0m 3ms/step - accuracy: 0.8012 - loss: 0.4196 - val_accuracy: 0.8118 - val_loss: 0.3994\n",
      "Epoch 41/100\n",
      "\u001b[1m8243/8243\u001b[0m \u001b[32m━━━━━━━━━━━━━━━━━━━━\u001b[0m\u001b[37m\u001b[0m \u001b[1m28s\u001b[0m 3ms/step - accuracy: 0.8029 - loss: 0.4182 - val_accuracy: 0.8142 - val_loss: 0.3967\n",
      "Epoch 42/100\n",
      "\u001b[1m8243/8243\u001b[0m \u001b[32m━━━━━━━━━━━━━━━━━━━━\u001b[0m\u001b[37m\u001b[0m \u001b[1m27s\u001b[0m 3ms/step - accuracy: 0.8043 - loss: 0.4148 - val_accuracy: 0.8153 - val_loss: 0.3902\n",
      "Epoch 43/100\n",
      "\u001b[1m8243/8243\u001b[0m \u001b[32m━━━━━━━━━━━━━━━━━━━━\u001b[0m\u001b[37m\u001b[0m \u001b[1m27s\u001b[0m 3ms/step - accuracy: 0.8048 - loss: 0.4139 - val_accuracy: 0.8175 - val_loss: 0.3895\n",
      "Epoch 44/100\n",
      "\u001b[1m8243/8243\u001b[0m \u001b[32m━━━━━━━━━━━━━━━━━━━━\u001b[0m\u001b[37m\u001b[0m \u001b[1m27s\u001b[0m 3ms/step - accuracy: 0.8044 - loss: 0.4123 - val_accuracy: 0.8192 - val_loss: 0.3885\n",
      "Epoch 45/100\n",
      "\u001b[1m8243/8243\u001b[0m \u001b[32m━━━━━━━━━━━━━━━━━━━━\u001b[0m\u001b[37m\u001b[0m \u001b[1m26s\u001b[0m 3ms/step - accuracy: 0.8070 - loss: 0.4091 - val_accuracy: 0.8163 - val_loss: 0.3881\n",
      "Epoch 46/100\n",
      "\u001b[1m8243/8243\u001b[0m \u001b[32m━━━━━━━━━━━━━━━━━━━━\u001b[0m\u001b[37m\u001b[0m \u001b[1m28s\u001b[0m 3ms/step - accuracy: 0.8078 - loss: 0.4087 - val_accuracy: 0.8209 - val_loss: 0.3835\n",
      "Epoch 47/100\n",
      "\u001b[1m8243/8243\u001b[0m \u001b[32m━━━━━━━━━━━━━━━━━━━━\u001b[0m\u001b[37m\u001b[0m \u001b[1m26s\u001b[0m 3ms/step - accuracy: 0.8090 - loss: 0.4060 - val_accuracy: 0.8205 - val_loss: 0.3802\n",
      "Epoch 48/100\n",
      "\u001b[1m8243/8243\u001b[0m \u001b[32m━━━━━━━━━━━━━━━━━━━━\u001b[0m\u001b[37m\u001b[0m \u001b[1m27s\u001b[0m 3ms/step - accuracy: 0.8095 - loss: 0.4041 - val_accuracy: 0.8243 - val_loss: 0.3825\n",
      "Epoch 49/100\n",
      "\u001b[1m8243/8243\u001b[0m \u001b[32m━━━━━━━━━━━━━━━━━━━━\u001b[0m\u001b[37m\u001b[0m \u001b[1m27s\u001b[0m 3ms/step - accuracy: 0.8103 - loss: 0.4015 - val_accuracy: 0.8235 - val_loss: 0.3793\n",
      "Epoch 50/100\n",
      "\u001b[1m8243/8243\u001b[0m \u001b[32m━━━━━━━━━━━━━━━━━━━━\u001b[0m\u001b[37m\u001b[0m \u001b[1m27s\u001b[0m 3ms/step - accuracy: 0.8112 - loss: 0.4007 - val_accuracy: 0.8162 - val_loss: 0.3855\n",
      "Epoch 51/100\n",
      "\u001b[1m8243/8243\u001b[0m \u001b[32m━━━━━━━━━━━━━━━━━━━━\u001b[0m\u001b[37m\u001b[0m \u001b[1m28s\u001b[0m 3ms/step - accuracy: 0.8117 - loss: 0.4001 - val_accuracy: 0.8203 - val_loss: 0.3781\n",
      "Epoch 52/100\n",
      "\u001b[1m8243/8243\u001b[0m \u001b[32m━━━━━━━━━━━━━━━━━━━━\u001b[0m\u001b[37m\u001b[0m \u001b[1m27s\u001b[0m 3ms/step - accuracy: 0.8133 - loss: 0.3970 - val_accuracy: 0.8239 - val_loss: 0.3760\n",
      "Epoch 53/100\n",
      "\u001b[1m8243/8243\u001b[0m \u001b[32m━━━━━━━━━━━━━━━━━━━━\u001b[0m\u001b[37m\u001b[0m \u001b[1m27s\u001b[0m 3ms/step - accuracy: 0.8127 - loss: 0.3960 - val_accuracy: 0.8159 - val_loss: 0.3835\n",
      "Epoch 54/100\n",
      "\u001b[1m8243/8243\u001b[0m \u001b[32m━━━━━━━━━━━━━━━━━━━━\u001b[0m\u001b[37m\u001b[0m \u001b[1m28s\u001b[0m 3ms/step - accuracy: 0.8147 - loss: 0.3932 - val_accuracy: 0.8195 - val_loss: 0.3789\n",
      "Epoch 55/100\n",
      "\u001b[1m8243/8243\u001b[0m \u001b[32m━━━━━━━━━━━━━━━━━━━━\u001b[0m\u001b[37m\u001b[0m \u001b[1m27s\u001b[0m 3ms/step - accuracy: 0.8147 - loss: 0.3919 - val_accuracy: 0.8156 - val_loss: 0.3820\n",
      "Epoch 56/100\n",
      "\u001b[1m8243/8243\u001b[0m \u001b[32m━━━━━━━━━━━━━━━━━━━━\u001b[0m\u001b[37m\u001b[0m \u001b[1m27s\u001b[0m 3ms/step - accuracy: 0.8142 - loss: 0.3918 - val_accuracy: 0.8143 - val_loss: 0.3787\n",
      "Epoch 57/100\n",
      "\u001b[1m8243/8243\u001b[0m \u001b[32m━━━━━━━━━━━━━━━━━━━━\u001b[0m\u001b[37m\u001b[0m \u001b[1m28s\u001b[0m 3ms/step - accuracy: 0.8168 - loss: 0.3912 - val_accuracy: 0.8238 - val_loss: 0.3707\n",
      "Epoch 58/100\n",
      "\u001b[1m8243/8243\u001b[0m \u001b[32m━━━━━━━━━━━━━━━━━━━━\u001b[0m\u001b[37m\u001b[0m \u001b[1m28s\u001b[0m 3ms/step - accuracy: 0.8169 - loss: 0.3896 - val_accuracy: 0.8193 - val_loss: 0.3759\n",
      "Epoch 59/100\n",
      "\u001b[1m8243/8243\u001b[0m \u001b[32m━━━━━━━━━━━━━━━━━━━━\u001b[0m\u001b[37m\u001b[0m \u001b[1m27s\u001b[0m 3ms/step - accuracy: 0.8186 - loss: 0.3872 - val_accuracy: 0.8258 - val_loss: 0.3748\n",
      "Epoch 60/100\n",
      "\u001b[1m8243/8243\u001b[0m \u001b[32m━━━━━━━━━━━━━━━━━━━━\u001b[0m\u001b[37m\u001b[0m \u001b[1m27s\u001b[0m 3ms/step - accuracy: 0.8196 - loss: 0.3854 - val_accuracy: 0.8182 - val_loss: 0.3785\n",
      "Epoch 61/100\n",
      "\u001b[1m8243/8243\u001b[0m \u001b[32m━━━━━━━━━━━━━━━━━━━━\u001b[0m\u001b[37m\u001b[0m \u001b[1m28s\u001b[0m 3ms/step - accuracy: 0.8192 - loss: 0.3854 - val_accuracy: 0.8294 - val_loss: 0.3631\n",
      "Epoch 62/100\n",
      "\u001b[1m8243/8243\u001b[0m \u001b[32m━━━━━━━━━━━━━━━━━━━━\u001b[0m\u001b[37m\u001b[0m \u001b[1m28s\u001b[0m 3ms/step - accuracy: 0.8203 - loss: 0.3828 - val_accuracy: 0.8173 - val_loss: 0.3755\n",
      "Epoch 63/100\n",
      "\u001b[1m8243/8243\u001b[0m \u001b[32m━━━━━━━━━━━━━━━━━━━━\u001b[0m\u001b[37m\u001b[0m \u001b[1m29s\u001b[0m 3ms/step - accuracy: 0.8196 - loss: 0.3822 - val_accuracy: 0.8169 - val_loss: 0.3789\n",
      "Epoch 64/100\n",
      "\u001b[1m8243/8243\u001b[0m \u001b[32m━━━━━━━━━━━━━━━━━━━━\u001b[0m\u001b[37m\u001b[0m \u001b[1m29s\u001b[0m 3ms/step - accuracy: 0.8208 - loss: 0.3803 - val_accuracy: 0.8198 - val_loss: 0.3729\n",
      "Epoch 65/100\n",
      "\u001b[1m8243/8243\u001b[0m \u001b[32m━━━━━━━━━━━━━━━━━━━━\u001b[0m\u001b[37m\u001b[0m \u001b[1m28s\u001b[0m 3ms/step - accuracy: 0.8206 - loss: 0.3819 - val_accuracy: 0.8089 - val_loss: 0.3927\n",
      "Epoch 66/100\n",
      "\u001b[1m8243/8243\u001b[0m \u001b[32m━━━━━━━━━━━━━━━━━━━━\u001b[0m\u001b[37m\u001b[0m \u001b[1m28s\u001b[0m 3ms/step - accuracy: 0.8217 - loss: 0.3803 - val_accuracy: 0.8216 - val_loss: 0.3734\n",
      "Epoch 67/100\n",
      "\u001b[1m8243/8243\u001b[0m \u001b[32m━━━━━━━━━━━━━━━━━━━━\u001b[0m\u001b[37m\u001b[0m \u001b[1m29s\u001b[0m 3ms/step - accuracy: 0.8221 - loss: 0.3772 - val_accuracy: 0.8263 - val_loss: 0.3625\n",
      "Epoch 68/100\n",
      "\u001b[1m8243/8243\u001b[0m \u001b[32m━━━━━━━━━━━━━━━━━━━━\u001b[0m\u001b[37m\u001b[0m \u001b[1m29s\u001b[0m 3ms/step - accuracy: 0.8219 - loss: 0.3786 - val_accuracy: 0.8185 - val_loss: 0.3763\n",
      "Epoch 69/100\n",
      "\u001b[1m8243/8243\u001b[0m \u001b[32m━━━━━━━━━━━━━━━━━━━━\u001b[0m\u001b[37m\u001b[0m \u001b[1m29s\u001b[0m 3ms/step - accuracy: 0.8219 - loss: 0.3781 - val_accuracy: 0.7977 - val_loss: 0.4136\n",
      "Epoch 70/100\n",
      "\u001b[1m8243/8243\u001b[0m \u001b[32m━━━━━━━━━━━━━━━━━━━━\u001b[0m\u001b[37m\u001b[0m \u001b[1m29s\u001b[0m 3ms/step - accuracy: 0.8221 - loss: 0.3762 - val_accuracy: 0.8194 - val_loss: 0.3763\n",
      "Epoch 71/100\n",
      "\u001b[1m8243/8243\u001b[0m \u001b[32m━━━━━━━━━━━━━━━━━━━━\u001b[0m\u001b[37m\u001b[0m \u001b[1m28s\u001b[0m 3ms/step - accuracy: 0.8219 - loss: 0.3777 - val_accuracy: 0.8065 - val_loss: 0.4157\n",
      "Epoch 72/100\n",
      "\u001b[1m8243/8243\u001b[0m \u001b[32m━━━━━━━━━━━━━━━━━━━━\u001b[0m\u001b[37m\u001b[0m \u001b[1m29s\u001b[0m 3ms/step - accuracy: 0.8210 - loss: 0.3772 - val_accuracy: 0.7985 - val_loss: 0.4173\n",
      "Epoch 73/100\n",
      "\u001b[1m8243/8243\u001b[0m \u001b[32m━━━━━━━━━━━━━━━━━━━━\u001b[0m\u001b[37m\u001b[0m \u001b[1m29s\u001b[0m 3ms/step - accuracy: 0.8235 - loss: 0.3753 - val_accuracy: 0.8266 - val_loss: 0.3616\n",
      "Epoch 74/100\n",
      "\u001b[1m8243/8243\u001b[0m \u001b[32m━━━━━━━━━━━━━━━━━━━━\u001b[0m\u001b[37m\u001b[0m \u001b[1m29s\u001b[0m 4ms/step - accuracy: 0.8237 - loss: 0.3738 - val_accuracy: 0.8139 - val_loss: 0.3824\n",
      "Epoch 75/100\n",
      "\u001b[1m8243/8243\u001b[0m \u001b[32m━━━━━━━━━━━━━━━━━━━━\u001b[0m\u001b[37m\u001b[0m \u001b[1m29s\u001b[0m 3ms/step - accuracy: 0.8239 - loss: 0.3746 - val_accuracy: 0.7772 - val_loss: 0.4659\n",
      "Epoch 76/100\n",
      "\u001b[1m8243/8243\u001b[0m \u001b[32m━━━━━━━━━━━━━━━━━━━━\u001b[0m\u001b[37m\u001b[0m \u001b[1m29s\u001b[0m 4ms/step - accuracy: 0.8250 - loss: 0.3731 - val_accuracy: 0.8215 - val_loss: 0.3786\n",
      "Epoch 77/100\n",
      "\u001b[1m8243/8243\u001b[0m \u001b[32m━━━━━━━━━━━━━━━━━━━━\u001b[0m\u001b[37m\u001b[0m \u001b[1m29s\u001b[0m 3ms/step - accuracy: 0.8259 - loss: 0.3711 - val_accuracy: 0.7801 - val_loss: 0.4520\n",
      "Epoch 78/100\n",
      "\u001b[1m8243/8243\u001b[0m \u001b[32m━━━━━━━━━━━━━━━━━━━━\u001b[0m\u001b[37m\u001b[0m \u001b[1m29s\u001b[0m 4ms/step - accuracy: 0.8249 - loss: 0.3704 - val_accuracy: 0.7970 - val_loss: 0.4287\n",
      "Epoch 79/100\n",
      "\u001b[1m8243/8243\u001b[0m \u001b[32m━━━━━━━━━━━━━━━━━━━━\u001b[0m\u001b[37m\u001b[0m \u001b[1m29s\u001b[0m 3ms/step - accuracy: 0.8254 - loss: 0.3705 - val_accuracy: 0.7933 - val_loss: 0.4576\n",
      "Epoch 80/100\n",
      "\u001b[1m8243/8243\u001b[0m \u001b[32m━━━━━━━━━━━━━━━━━━━━\u001b[0m\u001b[37m\u001b[0m \u001b[1m28s\u001b[0m 3ms/step - accuracy: 0.8257 - loss: 0.3702 - val_accuracy: 0.8267 - val_loss: 0.3620\n",
      "Epoch 81/100\n",
      "\u001b[1m8243/8243\u001b[0m \u001b[32m━━━━━━━━━━━━━━━━━━━━\u001b[0m\u001b[37m\u001b[0m \u001b[1m28s\u001b[0m 3ms/step - accuracy: 0.8274 - loss: 0.3677 - val_accuracy: 0.8145 - val_loss: 0.3832\n",
      "Epoch 82/100\n",
      "\u001b[1m8243/8243\u001b[0m \u001b[32m━━━━━━━━━━━━━━━━━━━━\u001b[0m\u001b[37m\u001b[0m \u001b[1m28s\u001b[0m 3ms/step - accuracy: 0.8264 - loss: 0.3688 - val_accuracy: 0.7919 - val_loss: 0.4157\n",
      "Epoch 83/100\n",
      "\u001b[1m8243/8243\u001b[0m \u001b[32m━━━━━━━━━━━━━━━━━━━━\u001b[0m\u001b[37m\u001b[0m \u001b[1m29s\u001b[0m 3ms/step - accuracy: 0.8264 - loss: 0.3682 - val_accuracy: 0.7720 - val_loss: 0.4731\n",
      "Epoch 84/100\n",
      "\u001b[1m8243/8243\u001b[0m \u001b[32m━━━━━━━━━━━━━━━━━━━━\u001b[0m\u001b[37m\u001b[0m \u001b[1m29s\u001b[0m 4ms/step - accuracy: 0.8266 - loss: 0.3679 - val_accuracy: 0.8094 - val_loss: 0.3869\n",
      "Epoch 85/100\n",
      "\u001b[1m8243/8243\u001b[0m \u001b[32m━━━━━━━━━━━━━━━━━━━━\u001b[0m\u001b[37m\u001b[0m \u001b[1m29s\u001b[0m 3ms/step - accuracy: 0.8273 - loss: 0.3654 - val_accuracy: 0.8316 - val_loss: 0.3598\n",
      "Epoch 86/100\n",
      "\u001b[1m8243/8243\u001b[0m \u001b[32m━━━━━━━━━━━━━━━━━━━━\u001b[0m\u001b[37m\u001b[0m \u001b[1m29s\u001b[0m 3ms/step - accuracy: 0.8282 - loss: 0.3655 - val_accuracy: 0.8212 - val_loss: 0.3686\n",
      "Epoch 87/100\n",
      "\u001b[1m8243/8243\u001b[0m \u001b[32m━━━━━━━━━━━━━━━━━━━━\u001b[0m\u001b[37m\u001b[0m \u001b[1m29s\u001b[0m 4ms/step - accuracy: 0.8279 - loss: 0.3663 - val_accuracy: 0.8278 - val_loss: 0.3568\n",
      "Epoch 88/100\n",
      "\u001b[1m8243/8243\u001b[0m \u001b[32m━━━━━━━━━━━━━━━━━━━━\u001b[0m\u001b[37m\u001b[0m \u001b[1m29s\u001b[0m 4ms/step - accuracy: 0.8285 - loss: 0.3646 - val_accuracy: 0.8024 - val_loss: 0.4459\n",
      "Epoch 89/100\n",
      "\u001b[1m8243/8243\u001b[0m \u001b[32m━━━━━━━━━━━━━━━━━━━━\u001b[0m\u001b[37m\u001b[0m \u001b[1m29s\u001b[0m 4ms/step - accuracy: 0.8284 - loss: 0.3621 - val_accuracy: 0.8245 - val_loss: 0.3611\n",
      "Epoch 90/100\n",
      "\u001b[1m8243/8243\u001b[0m \u001b[32m━━━━━━━━━━━━━━━━━━━━\u001b[0m\u001b[37m\u001b[0m \u001b[1m29s\u001b[0m 4ms/step - accuracy: 0.8294 - loss: 0.3644 - val_accuracy: 0.8184 - val_loss: 0.3937\n",
      "Epoch 91/100\n",
      "\u001b[1m8243/8243\u001b[0m \u001b[32m━━━━━━━━━━━━━━━━━━━━\u001b[0m\u001b[37m\u001b[0m \u001b[1m29s\u001b[0m 4ms/step - accuracy: 0.8277 - loss: 0.3640 - val_accuracy: 0.7894 - val_loss: 0.4473\n",
      "Epoch 92/100\n",
      "\u001b[1m8243/8243\u001b[0m \u001b[32m━━━━━━━━━━━━━━━━━━━━\u001b[0m\u001b[37m\u001b[0m \u001b[1m29s\u001b[0m 3ms/step - accuracy: 0.8297 - loss: 0.3621 - val_accuracy: 0.8010 - val_loss: 0.4287\n",
      "Epoch 93/100\n",
      "\u001b[1m8243/8243\u001b[0m \u001b[32m━━━━━━━━━━━━━━━━━━━━\u001b[0m\u001b[37m\u001b[0m \u001b[1m29s\u001b[0m 4ms/step - accuracy: 0.8298 - loss: 0.3618 - val_accuracy: 0.8014 - val_loss: 0.4049\n",
      "Epoch 94/100\n",
      "\u001b[1m8243/8243\u001b[0m \u001b[32m━━━━━━━━━━━━━━━━━━━━\u001b[0m\u001b[37m\u001b[0m \u001b[1m30s\u001b[0m 4ms/step - accuracy: 0.8287 - loss: 0.3625 - val_accuracy: 0.7698 - val_loss: 0.4991\n",
      "Epoch 95/100\n",
      "\u001b[1m8243/8243\u001b[0m \u001b[32m━━━━━━━━━━━━━━━━━━━━\u001b[0m\u001b[37m\u001b[0m \u001b[1m30s\u001b[0m 4ms/step - accuracy: 0.8291 - loss: 0.3634 - val_accuracy: 0.7768 - val_loss: 0.4621\n",
      "Epoch 96/100\n",
      "\u001b[1m8243/8243\u001b[0m \u001b[32m━━━━━━━━━━━━━━━━━━━━\u001b[0m\u001b[37m\u001b[0m \u001b[1m30s\u001b[0m 4ms/step - accuracy: 0.8291 - loss: 0.3632 - val_accuracy: 0.8091 - val_loss: 0.4105\n",
      "Epoch 97/100\n",
      "\u001b[1m8243/8243\u001b[0m \u001b[32m━━━━━━━━━━━━━━━━━━━━\u001b[0m\u001b[37m\u001b[0m \u001b[1m29s\u001b[0m 4ms/step - accuracy: 0.8315 - loss: 0.3584 - val_accuracy: 0.8075 - val_loss: 0.4118\n",
      "Epoch 98/100\n",
      "\u001b[1m8243/8243\u001b[0m \u001b[32m━━━━━━━━━━━━━━━━━━━━\u001b[0m\u001b[37m\u001b[0m \u001b[1m30s\u001b[0m 4ms/step - accuracy: 0.8305 - loss: 0.3607 - val_accuracy: 0.7945 - val_loss: 0.4217\n",
      "Epoch 99/100\n",
      "\u001b[1m8243/8243\u001b[0m \u001b[32m━━━━━━━━━━━━━━━━━━━━\u001b[0m\u001b[37m\u001b[0m \u001b[1m30s\u001b[0m 4ms/step - accuracy: 0.8298 - loss: 0.3595 - val_accuracy: 0.7658 - val_loss: 0.5056\n",
      "Epoch 100/100\n",
      "\u001b[1m8243/8243\u001b[0m \u001b[32m━━━━━━━━━━━━━━━━━━━━\u001b[0m\u001b[37m\u001b[0m \u001b[1m29s\u001b[0m 4ms/step - accuracy: 0.8307 - loss: 0.3618 - val_accuracy: 0.7752 - val_loss: 0.4658\n"
     ]
    },
    {
     "data": {
      "text/plain": [
       "<keras.src.callbacks.history.History at 0x22140f4a640>"
      ]
     },
     "execution_count": 240,
     "metadata": {},
     "output_type": "execute_result"
    }
   ],
   "source": [
    "input_shape = (X_train.shape[1],)\n",
    "model = tf.keras.models.Sequential([\n",
    "  tf.keras.layers.Dense(units=128, input_shape=input_shape, activation='relu'),\n",
    "  tf.keras.layers.Dropout(rate=0.1),\n",
    "  tf.keras.layers.Dense(units=128, activation='relu'),\n",
    "  tf.keras.layers.Dropout(rate=0.05),\n",
    "  tf.keras.layers.Dense(units=64, activation='relu'),\n",
    "  tf.keras.layers.Dense(units=32, activation='relu'),\n",
    "  tf.keras.layers.Dense(units=1, activation='sigmoid')\n",
    "])\n",
    "\n",
    "\n",
    "model.compile(optimizer=tf.keras.optimizers.Adam(learning_rate=0.0001),\n",
    "              loss='binary_crossentropy',\n",
    "              metrics=['accuracy'])\n",
    "\n",
    "model.fit(X_train, y_train, epochs=100, batch_size=32, validation_split=0.2)"
   ]
  },
  {
   "cell_type": "code",
   "execution_count": 241,
   "id": "1218938b-e719-48eb-9bcd-c68c951a686a",
   "metadata": {},
   "outputs": [
    {
     "name": "stdout",
     "output_type": "stream",
     "text": [
      "\u001b[1m2576/2576\u001b[0m \u001b[32m━━━━━━━━━━━━━━━━━━━━\u001b[0m\u001b[37m\u001b[0m \u001b[1m4s\u001b[0m 2ms/step - accuracy: 0.7748 - loss: 0.4674\n",
      "Test Loss: 0.4677618741989136, Test Accuracy: 0.7751559019088745\n"
     ]
    }
   ],
   "source": [
    "\n",
    "test_loss, test_accuracy = model.evaluate(X_test, y_test)\n",
    "print(f'Test Loss: {test_loss}, Test Accuracy: {test_accuracy}')\n"
   ]
  },
  {
   "cell_type": "code",
   "execution_count": 247,
   "id": "8c876e0c-6d3b-4469-8ffe-fbb3822e2c22",
   "metadata": {},
   "outputs": [
    {
     "name": "stdout",
     "output_type": "stream",
     "text": [
      "\u001b[1m2576/2576\u001b[0m \u001b[32m━━━━━━━━━━━━━━━━━━━━\u001b[0m\u001b[37m\u001b[0m \u001b[1m3s\u001b[0m 997us/step\n",
      "[[1]\n",
      " [1]\n",
      " [1]\n",
      " ...\n",
      " [1]\n",
      " [1]\n",
      " [1]]\n"
     ]
    }
   ],
   "source": [
    "from sklearn.metrics import confusion_matrix, recall_score\n",
    "\n",
    "# Prediksi label pada data uji\n",
    "y_pre = model.predict(X_test)\n",
    "y_pred = (y_pre > 0.5).astype(int)\n",
    "\n",
    "print(y_pred)"
   ]
  },
  {
   "cell_type": "code",
   "execution_count": 248,
   "id": "c96765a1-feb4-4616-9274-04c332258595",
   "metadata": {},
   "outputs": [
    {
     "name": "stderr",
     "output_type": "stream",
     "text": [
      "C:\\Users\\faisal\\AppData\\Local\\Temp\\ipykernel_10012\\673717880.py:5: UserWarning: set_ticklabels() should only be used with a fixed number of ticks, i.e. after set_ticks() or using a FixedLocator.\n",
      "  f.set_xticklabels([' No Heart disease', 'Heart Disease'])\n"
     ]
    },
    {
     "data": {
      "text/plain": [
       "[Text(0, 0, ' No Heart disease'), Text(1, 0, 'Heart Disease')]"
      ]
     },
     "execution_count": 248,
     "metadata": {},
     "output_type": "execute_result"
    },
    {
     "data": {
      "image/png": "[encoded data removed]",
      "text/plain": [
       "<Figure size 640x480 with 1 Axes>"
      ]
     },
     "metadata": {},
     "output_type": "display_data"
    }
   ],
   "source": [
    "unique, counts = np.unique(y_test, return_counts=True)\n",
    "f = sns.barplot(x=unique, y=counts)\n",
    "f.set_title(\"Actual Heart\")\n",
    "f.set_title(\"Heart disease Actual\")\n",
    "f.set_xticklabels([' No Heart disease', 'Heart Disease'])\n"
   ]
  },
  {
   "cell_type": "code",
   "execution_count": 254,
   "id": "e6bc23d6-2f69-434b-b4a6-0d0ecabfc92e",
   "metadata": {},
   "outputs": [
    {
     "name": "stderr",
     "output_type": "stream",
     "text": [
      "C:\\Users\\faisal\\AppData\\Local\\Temp\\ipykernel_10012\\2530541406.py:5: UserWarning: set_ticklabels() should only be used with a fixed number of ticks, i.e. after set_ticks() or using a FixedLocator.\n",
      "  f.set_xticklabels(['No Heart disease', 'Heart Disease'])\n"
     ]
    },
    {
     "data": {
      "text/plain": [
       "[Text(0, 0, 'No Heart disease'), Text(1, 0, 'Heart Disease')]"
      ]
     },
     "execution_count": 254,
     "metadata": {},
     "output_type": "execute_result"
    },
    {
     "data": {
      "image/png": "[encoded data removed]",
      "text/plain": [
       "<Figure size 640x480 with 1 Axes>"
      ]
     },
     "metadata": {},
     "output_type": "display_data"
    }
   ],
   "source": [
    "unique, counts = np.unique(y_pred, return_counts=True)\n",
    "f = sns.barplot(x=unique, y=counts)\n",
    "f.set_title(\"Predicted distribution\")\n",
    "f.set_title(\"Heart disease prediction\")\n",
    "f.set_xticklabels(['No Heart disease', 'Heart Disease'])\n"
   ]
  },
  {
   "cell_type": "code",
   "execution_count": 253,
   "id": "159e5f4a-9319-44c9-b9ed-8447c16565d4",
   "metadata": {},
   "outputs": [
    {
     "data": {
      "text/plain": [
       "(82426,)"
      ]
     },
     "execution_count": 253,
     "metadata": {},
     "output_type": "execute_result"
    }
   ],
   "source": [
    "y_test.shape"
   ]
  },
  {
   "cell_type": "code",
   "execution_count": 252,
   "id": "441e6db3-5fb2-4c90-aa40-96ac34169515",
   "metadata": {},
   "outputs": [
    {
     "data": {
      "text/plain": [
       "(82426, 1)"
      ]
     },
     "execution_count": 252,
     "metadata": {},
     "output_type": "execute_result"
    }
   ],
   "source": [
    "y_pred.shape"
   ]
  },
  {
   "cell_type": "code",
   "execution_count": 255,
   "id": "537c990f-15c1-4ea9-a5fa-93efb20782b8",
   "metadata": {},
   "outputs": [
    {
     "name": "stdout",
     "output_type": "stream",
     "text": [
      "Confusion Matrix:\n",
      "[[24987 16371]\n",
      " [ 2162 38906]]\n",
      "\n",
      "Recall Score: 0.9473556053374891\n"
     ]
    }
   ],
   "source": [
    "conf_matrix = confusion_matrix(y_test, y_pred)\n",
    "\n",
    "recall = recall_score(y_test, y_pred)\n",
    "\n",
    "print(\"Confusion Matrix:\")\n",
    "print(conf_matrix)\n",
    "\n",
    "print(\"\\nRecall Score:\", recall)"
   ]
  },
  {
   "cell_type": "code",
   "execution_count": 259,
   "id": "8ff38d81-5a56-4511-befe-9b34e990a017",
   "metadata": {},
   "outputs": [
    {
     "name": "stdout",
     "output_type": "stream",
     "text": [
      "\u001b[1m1/1\u001b[0m \u001b[32m━━━━━━━━━━━━━━━━━━━━\u001b[0m\u001b[37m\u001b[0m \u001b[1m0s\u001b[0m 24ms/step\n",
      "[[0.9287226]]\n"
     ]
    }
   ],
   "source": [
    "data_list = [[1.0, 4.0, 26.2, 0.0, 1.0, 1.0, 1.0, 1.0, 1.0, 0.0, 1.0, 1.0, 1.0]]\n",
    "\n",
    "\n",
    "data_array = np.array(data_list)\n",
    "\n",
    "baru = model.predict(data_array)\n",
    "print(baru)"
   ]
  },
  {
   "cell_type": "code",
   "execution_count": 202,
   "id": "0da29d47-40fc-406c-8c55-b7f1b7ff1409",
   "metadata": {},
   "outputs": [
    {
     "data": {
      "text/html": [
       "<div>\n",
       "<style scoped>\n",
       "    .dataframe tbody tr th:only-of-type {\n",
       "        vertical-align: middle;\n",
       "    }\n",
       "\n",
       "    .dataframe tbody tr th {\n",
       "        vertical-align: top;\n",
       "    }\n",
       "\n",
       "    .dataframe thead th {\n",
       "        text-align: right;\n",
       "    }\n",
       "</style>\n",
       "<table border=\"1\" class=\"dataframe\">\n",
       "  <thead>\n",
       "    <tr style=\"text-align: right;\">\n",
       "      <th></th>\n",
       "      <th>sakitJantung</th>\n",
       "      <th>kelamin</th>\n",
       "      <th>umur</th>\n",
       "      <th>bmi</th>\n",
       "      <th>tekananDarah</th>\n",
       "      <th>kolesterol</th>\n",
       "      <th>stroke</th>\n",
       "      <th>diabetes</th>\n",
       "      <th>rokok</th>\n",
       "      <th>alkohol</th>\n",
       "      <th>olahraga</th>\n",
       "      <th>buah</th>\n",
       "      <th>sayur</th>\n",
       "      <th>susahJalan</th>\n",
       "    </tr>\n",
       "  </thead>\n",
       "  <tbody>\n",
       "    <tr>\n",
       "      <th>0</th>\n",
       "      <td>0.0</td>\n",
       "      <td>0.0</td>\n",
       "      <td>8.0</td>\n",
       "      <td>40.0</td>\n",
       "      <td>1.0</td>\n",
       "      <td>1.0</td>\n",
       "      <td>0.0</td>\n",
       "      <td>0.0</td>\n",
       "      <td>1.0</td>\n",
       "      <td>0.0</td>\n",
       "      <td>0.0</td>\n",
       "      <td>0.0</td>\n",
       "      <td>1.0</td>\n",
       "      <td>1.0</td>\n",
       "    </tr>\n",
       "    <tr>\n",
       "      <th>1</th>\n",
       "      <td>0.0</td>\n",
       "      <td>0.0</td>\n",
       "      <td>6.0</td>\n",
       "      <td>25.0</td>\n",
       "      <td>0.0</td>\n",
       "      <td>0.0</td>\n",
       "      <td>0.0</td>\n",
       "      <td>0.0</td>\n",
       "      <td>1.0</td>\n",
       "      <td>0.0</td>\n",
       "      <td>1.0</td>\n",
       "      <td>0.0</td>\n",
       "      <td>0.0</td>\n",
       "      <td>0.0</td>\n",
       "    </tr>\n",
       "    <tr>\n",
       "      <th>2</th>\n",
       "      <td>0.0</td>\n",
       "      <td>0.0</td>\n",
       "      <td>8.0</td>\n",
       "      <td>28.0</td>\n",
       "      <td>1.0</td>\n",
       "      <td>1.0</td>\n",
       "      <td>0.0</td>\n",
       "      <td>0.0</td>\n",
       "      <td>0.0</td>\n",
       "      <td>0.0</td>\n",
       "      <td>0.0</td>\n",
       "      <td>1.0</td>\n",
       "      <td>0.0</td>\n",
       "      <td>1.0</td>\n",
       "    </tr>\n",
       "    <tr>\n",
       "      <th>3</th>\n",
       "      <td>0.0</td>\n",
       "      <td>0.0</td>\n",
       "      <td>10.0</td>\n",
       "      <td>27.0</td>\n",
       "      <td>1.0</td>\n",
       "      <td>0.0</td>\n",
       "      <td>0.0</td>\n",
       "      <td>0.0</td>\n",
       "      <td>0.0</td>\n",
       "      <td>0.0</td>\n",
       "      <td>1.0</td>\n",
       "      <td>1.0</td>\n",
       "      <td>1.0</td>\n",
       "      <td>0.0</td>\n",
       "    </tr>\n",
       "    <tr>\n",
       "      <th>4</th>\n",
       "      <td>0.0</td>\n",
       "      <td>0.0</td>\n",
       "      <td>10.0</td>\n",
       "      <td>24.0</td>\n",
       "      <td>1.0</td>\n",
       "      <td>1.0</td>\n",
       "      <td>0.0</td>\n",
       "      <td>0.0</td>\n",
       "      <td>0.0</td>\n",
       "      <td>0.0</td>\n",
       "      <td>1.0</td>\n",
       "      <td>1.0</td>\n",
       "      <td>1.0</td>\n",
       "      <td>0.0</td>\n",
       "    </tr>\n",
       "  </tbody>\n",
       "</table>\n",
       "</div>"
      ],
      "text/plain": [
       "   sakitJantung  kelamin  umur   bmi  tekananDarah  kolesterol  stroke  \\\n",
       "0           0.0      0.0   8.0  40.0           1.0         1.0     0.0   \n",
       "1           0.0      0.0   6.0  25.0           0.0         0.0     0.0   \n",
       "2           0.0      0.0   8.0  28.0           1.0         1.0     0.0   \n",
       "3           0.0      0.0  10.0  27.0           1.0         0.0     0.0   \n",
       "4           0.0      0.0  10.0  24.0           1.0         1.0     0.0   \n",
       "\n",
       "   diabetes  rokok  alkohol  olahraga  buah  sayur  susahJalan  \n",
       "0       0.0    1.0      0.0       0.0   0.0    1.0         1.0  \n",
       "1       0.0    1.0      0.0       1.0   0.0    0.0         0.0  \n",
       "2       0.0    0.0      0.0       0.0   1.0    0.0         1.0  \n",
       "3       0.0    0.0      0.0       1.0   1.0    1.0         0.0  \n",
       "4       0.0    0.0      0.0       1.0   1.0    1.0         0.0  "
      ]
     },
     "execution_count": 202,
     "metadata": {},
     "output_type": "execute_result"
    }
   ],
   "source": [
    "df.head()"
   ]
  },
  {
   "cell_type": "code",
   "execution_count": null,
   "id": "c7d83f20-f998-4a49-9593-5beadcd1ce7d",
   "metadata": {},
   "outputs": [],
   "source": []
  }
 ],
 "metadata": {
  "kernelspec": {
   "display_name": "Python 3 (ipykernel)",
   "language": "python",
   "name": "python3"
  },
  "language_info": {
   "codemirror_mode": {
    "name": "ipython",
    "version": 3
   },
   "file_extension": ".py",
   "mimetype": "text/x-python",
   "name": "python",
   "nbconvert_exporter": "python",
   "pygments_lexer": "ipython3",
   "version": "3.9.6"
  }
 },
 "nbformat": 4,
 "nbformat_minor": 5
}
